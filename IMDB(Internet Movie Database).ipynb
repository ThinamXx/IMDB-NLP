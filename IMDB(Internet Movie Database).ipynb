{
 "cells": [
  {
   "cell_type": "markdown",
   "metadata": {
    "colab_type": "text",
    "id": "-fG5X63Bq81N"
   },
   "source": [
    "### **Initialization**"
   ]
  },
  {
   "cell_type": "markdown",
   "metadata": {
    "colab_type": "text",
    "id": "gkfAzZTdrRg_"
   },
   "source": [
    "*Setting up for Fast.ai Environment*"
   ]
  },
  {
   "cell_type": "code",
   "execution_count": 1,
   "metadata": {
    "colab": {
     "base_uri": "https://localhost:8080/",
     "height": 51
    },
    "colab_type": "code",
    "id": "liwo5E7Eoan_",
    "outputId": "3b8d8742-cf8c-4fc0-c6fd-9aaf681245fc"
   },
   "outputs": [
    {
     "name": "stdout",
     "output_type": "stream",
     "text": [
      "Updating fastai...\n",
      "Done.\n"
     ]
    }
   ],
   "source": [
    "!curl -s https://course.fast.ai/setup/colab | bash"
   ]
  },
  {
   "cell_type": "markdown",
   "metadata": {
    "colab_type": "text",
    "id": "vP7ZMWOlrknx"
   },
   "source": [
    "**Downloading the Dependencies**"
   ]
  },
  {
   "cell_type": "code",
   "execution_count": 2,
   "metadata": {
    "colab": {},
    "colab_type": "code",
    "id": "-rCrZq44rhtP"
   },
   "outputs": [],
   "source": [
    "%reload_ext autoreload\n",
    "%autoreload 2\n",
    "%matplotlib inline"
   ]
  },
  {
   "cell_type": "code",
   "execution_count": 3,
   "metadata": {
    "colab": {},
    "colab_type": "code",
    "id": "-ZMvL95Sr4H7"
   },
   "outputs": [],
   "source": [
    "from fastai.text import *"
   ]
  },
  {
   "cell_type": "markdown",
   "metadata": {
    "colab_type": "text",
    "id": "bDzCF7FssgUh"
   },
   "source": [
    "**Preparing the Data.**"
   ]
  },
  {
   "cell_type": "markdown",
   "metadata": {
    "colab_type": "text",
    "id": "vm9tZkyUs6Wi"
   },
   "source": [
    "*Downloading the Data.*"
   ]
  },
  {
   "cell_type": "code",
   "execution_count": 4,
   "metadata": {
    "colab": {
     "base_uri": "https://localhost:8080/",
     "height": 51
    },
    "colab_type": "code",
    "id": "YYKs_JVrsL3P",
    "outputId": "b56c326f-f5e1-477a-e46c-401194cc8f6c"
   },
   "outputs": [
    {
     "name": "stdout",
     "output_type": "stream",
     "text": [
      "Downloading http://files.fast.ai/data/examples/imdb_sample.tgz\n"
     ]
    },
    {
     "data": {
      "text/html": [],
      "text/plain": [
       "<IPython.core.display.HTML object>"
      ]
     },
     "metadata": {
      "tags": []
     },
     "output_type": "display_data"
    },
    {
     "data": {
      "text/plain": [
       "[PosixPath('/root/.fastai/data/imdb_sample/texts.csv')]"
      ]
     },
     "execution_count": 4,
     "metadata": {
      "tags": []
     },
     "output_type": "execute_result"
    }
   ],
   "source": [
    "path = untar_data(URLs.IMDB_SAMPLE)\n",
    "path.ls()"
   ]
  },
  {
   "cell_type": "code",
   "execution_count": 5,
   "metadata": {
    "colab": {
     "base_uri": "https://localhost:8080/",
     "height": 204
    },
    "colab_type": "code",
    "id": "Yo7llvy3tJ92",
    "outputId": "956d2e87-0eb8-486d-afbb-bc04a7f2e718"
   },
   "outputs": [
    {
     "data": {
      "text/html": [
       "<div>\n",
       "<style scoped>\n",
       "    .dataframe tbody tr th:only-of-type {\n",
       "        vertical-align: middle;\n",
       "    }\n",
       "\n",
       "    .dataframe tbody tr th {\n",
       "        vertical-align: top;\n",
       "    }\n",
       "\n",
       "    .dataframe thead th {\n",
       "        text-align: right;\n",
       "    }\n",
       "</style>\n",
       "<table border=\"1\" class=\"dataframe\">\n",
       "  <thead>\n",
       "    <tr style=\"text-align: right;\">\n",
       "      <th></th>\n",
       "      <th>label</th>\n",
       "      <th>text</th>\n",
       "      <th>is_valid</th>\n",
       "    </tr>\n",
       "  </thead>\n",
       "  <tbody>\n",
       "    <tr>\n",
       "      <th>0</th>\n",
       "      <td>negative</td>\n",
       "      <td>Un-bleeping-believable! Meg Ryan doesn't even ...</td>\n",
       "      <td>False</td>\n",
       "    </tr>\n",
       "    <tr>\n",
       "      <th>1</th>\n",
       "      <td>positive</td>\n",
       "      <td>This is a extremely well-made film. The acting...</td>\n",
       "      <td>False</td>\n",
       "    </tr>\n",
       "    <tr>\n",
       "      <th>2</th>\n",
       "      <td>negative</td>\n",
       "      <td>Every once in a long while a movie will come a...</td>\n",
       "      <td>False</td>\n",
       "    </tr>\n",
       "    <tr>\n",
       "      <th>3</th>\n",
       "      <td>positive</td>\n",
       "      <td>Name just says it all. I watched this movie wi...</td>\n",
       "      <td>False</td>\n",
       "    </tr>\n",
       "    <tr>\n",
       "      <th>4</th>\n",
       "      <td>negative</td>\n",
       "      <td>This movie succeeds at being one of the most u...</td>\n",
       "      <td>False</td>\n",
       "    </tr>\n",
       "  </tbody>\n",
       "</table>\n",
       "</div>"
      ],
      "text/plain": [
       "      label                                               text  is_valid\n",
       "0  negative  Un-bleeping-believable! Meg Ryan doesn't even ...     False\n",
       "1  positive  This is a extremely well-made film. The acting...     False\n",
       "2  negative  Every once in a long while a movie will come a...     False\n",
       "3  positive  Name just says it all. I watched this movie wi...     False\n",
       "4  negative  This movie succeeds at being one of the most u...     False"
      ]
     },
     "execution_count": 5,
     "metadata": {
      "tags": []
     },
     "output_type": "execute_result"
    }
   ],
   "source": [
    "df = pd.read_csv(path/\"texts.csv\")\n",
    "df.head()"
   ]
  },
  {
   "cell_type": "code",
   "execution_count": 6,
   "metadata": {
    "colab": {
     "base_uri": "https://localhost:8080/",
     "height": 137
    },
    "colab_type": "code",
    "id": "ydAml9uvtjIz",
    "outputId": "dc9dba53-0352-46f5-fb82-a1eb9e0a8426"
   },
   "outputs": [
    {
     "data": {
      "application/vnd.google.colaboratory.intrinsic+json": {
       "type": "string"
      },
      "text/plain": [
       "'This is a extremely well-made film. The acting, script and camera-work are all first-rate. The music is good, too, though it is mostly early in the film, when things are still relatively cheery. There are no really superstars in the cast, though several faces will be familiar. The entire cast does an excellent job with the script.<br /><br />But it is hard to watch, because there is no good end to a situation like the one presented. It is now fashionable to blame the British for setting Hindus and Muslims against each other, and then cruelly separating them into two countries. There is some merit in this view, but it\\'s also true that no one forced Hindus and Muslims in the region to mistreat each other as they did around the time of partition. It seems more likely that the British simply saw the tensions between the religions and were clever enough to exploit them to their own ends.<br /><br />The result is that there is much cruelty and inhumanity in the situation and this is very unpleasant to remember and to see on the screen. But it is never painted as a black-and-white case. There is baseness and nobility on both sides, and also the hope for change in the younger generation.<br /><br />There is redemption of a sort, in the end, when Puro has to make a hard choice between a man who has ruined her life, but also truly loved her, and her family which has disowned her, then later come looking for her. But by that point, she has no option that is without great pain for her.<br /><br />This film carries the message that both Muslims and Hindus have their grave faults, and also that both can be dignified and caring people. The reality of partition makes that realisation all the more wrenching, since there can never be real reconciliation across the India/Pakistan border. In that sense, it is similar to \"Mr & Mrs Iyer\".<br /><br />In the end, we were glad to have seen the film, even though the resolution was heartbreaking. If the UK and US could deal with their own histories of racism with this kind of frankness, they would certainly be better off.'"
      ]
     },
     "execution_count": 6,
     "metadata": {
      "tags": []
     },
     "output_type": "execute_result"
    }
   ],
   "source": [
    "df['text'][1]"
   ]
  },
  {
   "cell_type": "markdown",
   "metadata": {
    "colab_type": "text",
    "id": "cI2a0N1svXKO"
   },
   "source": [
    "*Fast.ai has TextDataBunch which performs Tokenizationa and Numericalization itself and makes the Data ready to use.*"
   ]
  },
  {
   "cell_type": "code",
   "execution_count": 7,
   "metadata": {
    "colab": {
     "base_uri": "https://localhost:8080/",
     "height": 17
    },
    "colab_type": "code",
    "id": "NJZ2mXMFts8n",
    "outputId": "b94a8f99-a7b9-47c7-ea4c-fb82928eacf8"
   },
   "outputs": [
    {
     "data": {
      "text/html": [],
      "text/plain": [
       "<IPython.core.display.HTML object>"
      ]
     },
     "metadata": {
      "tags": []
     },
     "output_type": "display_data"
    },
    {
     "data": {
      "text/html": [],
      "text/plain": [
       "<IPython.core.display.HTML object>"
      ]
     },
     "metadata": {
      "tags": []
     },
     "output_type": "display_data"
    }
   ],
   "source": [
    "data_lm = TextDataBunch.from_csv(path, \"texts.csv\")"
   ]
  },
  {
   "cell_type": "code",
   "execution_count": 8,
   "metadata": {
    "colab": {},
    "colab_type": "code",
    "id": "G9T-h79rvCzw"
   },
   "outputs": [],
   "source": [
    "data_lm.save()"
   ]
  },
  {
   "cell_type": "markdown",
   "metadata": {
    "colab_type": "text",
    "id": "yxIHk2e7vSyX"
   },
   "source": [
    "*Loading the Data*"
   ]
  },
  {
   "cell_type": "code",
   "execution_count": 9,
   "metadata": {
    "colab": {},
    "colab_type": "code",
    "id": "O3u04rQPvMJS"
   },
   "outputs": [],
   "source": [
    "data = load_data(path)"
   ]
  },
  {
   "cell_type": "markdown",
   "metadata": {
    "colab_type": "text",
    "id": "Stbr5Jv3wnrx"
   },
   "source": [
    "**Tokenization**"
   ]
  },
  {
   "cell_type": "code",
   "execution_count": 10,
   "metadata": {
    "colab": {
     "base_uri": "https://localhost:8080/",
     "height": 289
    },
    "colab_type": "code",
    "id": "WjfJ5orMv3co",
    "outputId": "a4139311-91e2-4664-ba82-af189c1c5a0e"
   },
   "outputs": [
    {
     "data": {
      "text/html": [],
      "text/plain": [
       "<IPython.core.display.HTML object>"
      ]
     },
     "metadata": {
      "tags": []
     },
     "output_type": "display_data"
    },
    {
     "data": {
      "text/html": [],
      "text/plain": [
       "<IPython.core.display.HTML object>"
      ]
     },
     "metadata": {
      "tags": []
     },
     "output_type": "display_data"
    },
    {
     "data": {
      "text/html": [
       "<table border=\"1\" class=\"dataframe\">\n",
       "  <thead>\n",
       "    <tr style=\"text-align: right;\">\n",
       "      <th>text</th>\n",
       "      <th>target</th>\n",
       "    </tr>\n",
       "  </thead>\n",
       "  <tbody>\n",
       "    <tr>\n",
       "      <td>xxbos xxup the xxup shop xxup around xxup the xxup corner is one of the sweetest and most feel - good romantic comedies ever made . xxmaj there 's just no getting around that , and it 's hard to actually put one 's feeling for this film into words . xxmaj it 's not one of those films that tries too hard , nor does it come up with</td>\n",
       "      <td>positive</td>\n",
       "    </tr>\n",
       "    <tr>\n",
       "      <td>xxbos xxmaj now that xxmaj che(2008 ) has finished its relatively short xxmaj australian cinema run ( extremely limited xxunk screen in xxmaj xxunk , after xxunk ) , i can xxunk join both xxunk of \" xxmaj at xxmaj the xxmaj movies \" in taking xxmaj steven xxmaj soderbergh to task . \\n \\n  xxmaj it 's usually satisfying to watch a film director change his style /</td>\n",
       "      <td>negative</td>\n",
       "    </tr>\n",
       "    <tr>\n",
       "      <td>xxbos xxmaj this film sat on my xxmaj tivo for weeks before i watched it . i dreaded a self - indulgent xxunk flick about relationships gone bad . i was wrong ; this was an xxunk xxunk into the screwed - up xxunk of xxmaj new xxmaj yorkers . \\n \\n  xxmaj the format is the same as xxmaj max xxmaj xxunk ' \" xxmaj la xxmaj ronde</td>\n",
       "      <td>positive</td>\n",
       "    </tr>\n",
       "    <tr>\n",
       "      <td>xxbos xxmaj many neglect that this is n't just a classic due to the fact that it 's the first xxup 3d game , or even the first xxunk - up . xxmaj it 's also one of the first stealth games , one of the xxunk definitely the first ) truly claustrophobic games , and just a pretty well - xxunk gaming experience in general . xxmaj with graphics</td>\n",
       "      <td>positive</td>\n",
       "    </tr>\n",
       "    <tr>\n",
       "      <td>xxbos \\n \\n  i 'm sure things did n't exactly go the same way in the real life of xxmaj homer xxmaj hickam as they did in the film adaptation of his book , xxmaj rocket xxmaj boys , but the movie \" xxmaj october xxmaj sky \" ( an xxunk of the book 's title ) is good enough to stand alone . i have not read xxmaj</td>\n",
       "      <td>positive</td>\n",
       "    </tr>\n",
       "  </tbody>\n",
       "</table>"
      ],
      "text/plain": [
       "<IPython.core.display.HTML object>"
      ]
     },
     "metadata": {
      "tags": []
     },
     "output_type": "display_data"
    }
   ],
   "source": [
    "data = TextClasDataBunch.from_csv(path, \"texts.csv\")\n",
    "data.show_batch()"
   ]
  },
  {
   "cell_type": "markdown",
   "metadata": {
    "colab_type": "text",
    "id": "vzh8yiR1wrkW"
   },
   "source": [
    "**Numericalization**"
   ]
  },
  {
   "cell_type": "code",
   "execution_count": 11,
   "metadata": {
    "colab": {
     "base_uri": "https://localhost:8080/",
     "height": 187
    },
    "colab_type": "code",
    "id": "cXI2d06zwRnP",
    "outputId": "138e73cb-e814-4c7d-a1ad-18a8e4ebc066"
   },
   "outputs": [
    {
     "data": {
      "text/plain": [
       "['xxunk',\n",
       " 'xxpad',\n",
       " 'xxbos',\n",
       " 'xxeos',\n",
       " 'xxfld',\n",
       " 'xxmaj',\n",
       " 'xxup',\n",
       " 'xxrep',\n",
       " 'xxwrep',\n",
       " 'the']"
      ]
     },
     "execution_count": 11,
     "metadata": {
      "tags": []
     },
     "output_type": "execute_result"
    }
   ],
   "source": [
    "data.vocab.itos[:10]"
   ]
  },
  {
   "cell_type": "code",
   "execution_count": 12,
   "metadata": {
    "colab": {
     "base_uri": "https://localhost:8080/",
     "height": 34
    },
    "colab_type": "code",
    "id": "PY2WFCv2xIV3",
    "outputId": "ad99f33e-a81e-438f-97a6-257999562c77"
   },
   "outputs": [
    {
     "data": {
      "text/plain": [
       "Text [  2  19 341   9 ...  60  14 170  11]"
      ]
     },
     "execution_count": 12,
     "metadata": {
      "tags": []
     },
     "output_type": "execute_result"
    }
   ],
   "source": [
    "data.train_ds[0][0]"
   ]
  },
  {
   "cell_type": "markdown",
   "metadata": {
    "colab_type": "text",
    "id": "8xDc-ONfx8eA"
   },
   "source": [
    "**Data Block API**"
   ]
  },
  {
   "cell_type": "code",
   "execution_count": 13,
   "metadata": {
    "colab": {
     "base_uri": "https://localhost:8080/",
     "height": 17
    },
    "colab_type": "code",
    "id": "MaRfWwFqxqzg",
    "outputId": "ecc15d60-3493-4f31-bc19-c333ecb65f9c"
   },
   "outputs": [
    {
     "data": {
      "text/html": [],
      "text/plain": [
       "<IPython.core.display.HTML object>"
      ]
     },
     "metadata": {
      "tags": []
     },
     "output_type": "display_data"
    },
    {
     "data": {
      "text/html": [],
      "text/plain": [
       "<IPython.core.display.HTML object>"
      ]
     },
     "metadata": {
      "tags": []
     },
     "output_type": "display_data"
    }
   ],
   "source": [
    "data = (TextList.from_csv(path, \"texts.csv\", cols=\"text\")\n",
    "        .split_from_df(col=2)\n",
    "        .label_from_df(cols=0)\n",
    "        .databunch())"
   ]
  },
  {
   "cell_type": "markdown",
   "metadata": {
    "colab_type": "text",
    "id": "OoOtLtLQywpV"
   },
   "source": [
    "## **Language Model**"
   ]
  },
  {
   "cell_type": "code",
   "execution_count": 14,
   "metadata": {
    "colab": {},
    "colab_type": "code",
    "id": "vpjNvkBTyjC3"
   },
   "outputs": [],
   "source": [
    "# BatchSize\n",
    "bs = 48"
   ]
  },
  {
   "cell_type": "code",
   "execution_count": 15,
   "metadata": {
    "colab": {
     "base_uri": "https://localhost:8080/",
     "height": 153
    },
    "colab_type": "code",
    "id": "mg7nFe97ytzG",
    "outputId": "608398fa-cdfc-473b-fa0e-10c3a9acbd94"
   },
   "outputs": [
    {
     "name": "stdout",
     "output_type": "stream",
     "text": [
      "Downloading https://s3.amazonaws.com/fast-ai-nlp/imdb.tgz\n"
     ]
    },
    {
     "data": {
      "text/html": [],
      "text/plain": [
       "<IPython.core.display.HTML object>"
      ]
     },
     "metadata": {
      "tags": []
     },
     "output_type": "display_data"
    },
    {
     "data": {
      "text/plain": [
       "[PosixPath('/root/.fastai/data/imdb/train'),\n",
       " PosixPath('/root/.fastai/data/imdb/unsup'),\n",
       " PosixPath('/root/.fastai/data/imdb/tmp_lm'),\n",
       " PosixPath('/root/.fastai/data/imdb/README'),\n",
       " PosixPath('/root/.fastai/data/imdb/test'),\n",
       " PosixPath('/root/.fastai/data/imdb/imdb.vocab'),\n",
       " PosixPath('/root/.fastai/data/imdb/tmp_clas')]"
      ]
     },
     "execution_count": 15,
     "metadata": {
      "tags": []
     },
     "output_type": "execute_result"
    }
   ],
   "source": [
    "path = untar_data(URLs.IMDB)\n",
    "path.ls()"
   ]
  },
  {
   "cell_type": "code",
   "execution_count": 16,
   "metadata": {
    "colab": {
     "base_uri": "https://localhost:8080/",
     "height": 85
    },
    "colab_type": "code",
    "id": "sEHu_-NizA7t",
    "outputId": "0fed4593-57ae-493b-98b9-ab5c02e04707"
   },
   "outputs": [
    {
     "data": {
      "text/plain": [
       "[PosixPath('/root/.fastai/data/imdb/train/pos'),\n",
       " PosixPath('/root/.fastai/data/imdb/train/neg'),\n",
       " PosixPath('/root/.fastai/data/imdb/train/labeledBow.feat'),\n",
       " PosixPath('/root/.fastai/data/imdb/train/unsupBow.feat')]"
      ]
     },
     "execution_count": 16,
     "metadata": {
      "tags": []
     },
     "output_type": "execute_result"
    }
   ],
   "source": [
    "(path/'train').ls()"
   ]
  },
  {
   "cell_type": "code",
   "execution_count": 17,
   "metadata": {
    "colab": {
     "base_uri": "https://localhost:8080/",
     "height": 17
    },
    "colab_type": "code",
    "id": "amxRwF0azk8d",
    "outputId": "fbb55361-73c1-42e3-bec1-b722e1354aca"
   },
   "outputs": [
    {
     "data": {
      "text/html": [],
      "text/plain": [
       "<IPython.core.display.HTML object>"
      ]
     },
     "metadata": {
      "tags": []
     },
     "output_type": "display_data"
    },
    {
     "data": {
      "text/html": [],
      "text/plain": [
       "<IPython.core.display.HTML object>"
      ]
     },
     "metadata": {
      "tags": []
     },
     "output_type": "display_data"
    }
   ],
   "source": [
    "data_lm = (TextList.from_folder(path)\n",
    "          # Inputs: All text files\n",
    "          .filter_by_folder(include=['train', 'test', 'unsup'])\n",
    "          .split_by_rand_pct(0.1)\n",
    "          .label_for_lm()\n",
    "          .databunch(bs=bs))\n",
    "data_lm.save('data_lm.pkl')"
   ]
  },
  {
   "cell_type": "code",
   "execution_count": 18,
   "metadata": {
    "colab": {},
    "colab_type": "code",
    "id": "bjMhzuIH1SGD"
   },
   "outputs": [],
   "source": [
    "data_lm = load_data(path, \"data_lm.pkl\", bs=bs)"
   ]
  },
  {
   "cell_type": "code",
   "execution_count": 19,
   "metadata": {
    "colab": {
     "base_uri": "https://localhost:8080/",
     "height": 289
    },
    "colab_type": "code",
    "id": "qJqjRd0h2pXv",
    "outputId": "cd4fa8ba-945c-4d40-b792-cc3b7386ecd8"
   },
   "outputs": [
    {
     "data": {
      "text/html": [
       "<table border=\"1\" class=\"dataframe\">\n",
       "  <thead>\n",
       "    <tr style=\"text-align: right;\">\n",
       "      <th>idx</th>\n",
       "      <th>text</th>\n",
       "    </tr>\n",
       "  </thead>\n",
       "  <tbody>\n",
       "    <tr>\n",
       "      <td>0</td>\n",
       "      <td>i wanted to see more of xxmaj bashki 's films . i saw xxmaj cool xxmaj world and thought it was mediocre and i saw this . xxmaj when it was first released , the film was very controversial . xxmaj it was considered racist and xxmaj al xxmaj sharpton wanted the film banned , he even led protests outside the theatre where the film was playing . xxmaj the</td>\n",
       "    </tr>\n",
       "    <tr>\n",
       "      <td>1</td>\n",
       "      <td>kundry 's famous line , \" i saw him ... him ... and laughed . \" xxmaj this gets translated , in the subtitles , for reasons which escape me , as \" i saw the xxmaj savior 's face . \" xxmaj it is especially irritating to me , because throughout the libretto , xxmaj wagner very deliberately and carefully refers to this unseen character xxup who xxup need</td>\n",
       "    </tr>\n",
       "    <tr>\n",
       "      <td>2</td>\n",
       "      <td>special effects needed to really capture the essence of the ship actually sinking . xxmaj this film is so accurate that even xxmaj james xxmaj cameron timed the actual sinking of the ship in the film with the xxup real sinking that fateful day in xxmaj april 1912 . xxmaj even the silverware for goodness sakes matched ! \\n \\n  xxmaj give this movie a break you guys !</td>\n",
       "    </tr>\n",
       "    <tr>\n",
       "      <td>3</td>\n",
       "      <td>xxup bc region where the movie was shot is breathtaking ) . xxmaj the life most of us dream of is dismantled by dreams , phantoms , and his own past , until the day a teenaged criminal breaks in ... and , trite as it sounds , breaks him out . \\n \\n  xxmaj canadian cinema suffers from several problems . xxmaj generally , a lack of money</td>\n",
       "    </tr>\n",
       "    <tr>\n",
       "      <td>4</td>\n",
       "      <td>dreams were , it was beautiful . xxmaj joe xxmaj johnston should direct more of these brilliant , acting driven films as well as his xxmaj big budget blockbuster faire , which is also excellent . xxup kudos ! ! to all involved in this masterpiece ! xxbos xxmaj an excellent period murder melodrama , with xxmaj fontaine effectively playing against her earlier naive wallflower type , in a role</td>\n",
       "    </tr>\n",
       "  </tbody>\n",
       "</table>"
      ],
      "text/plain": [
       "<IPython.core.display.HTML object>"
      ]
     },
     "metadata": {
      "tags": []
     },
     "output_type": "display_data"
    }
   ],
   "source": [
    "data_lm.show_batch()"
   ]
  },
  {
   "cell_type": "code",
   "execution_count": 20,
   "metadata": {
    "colab": {
     "base_uri": "https://localhost:8080/",
     "height": 34
    },
    "colab_type": "code",
    "id": "1IYgkJ8F2yGw",
    "outputId": "bff655e2-91eb-4d36-98ba-10666a04ac48"
   },
   "outputs": [
    {
     "name": "stdout",
     "output_type": "stream",
     "text": [
      "Downloading https://s3.amazonaws.com/fast-ai-modelzoo/wt103-fwd.tgz\n"
     ]
    },
    {
     "data": {
      "text/html": [],
      "text/plain": [
       "<IPython.core.display.HTML object>"
      ]
     },
     "metadata": {
      "tags": []
     },
     "output_type": "display_data"
    }
   ],
   "source": [
    "learn = language_model_learner(data_lm, AWD_LSTM, drop_mult=0.3)"
   ]
  },
  {
   "cell_type": "code",
   "execution_count": 21,
   "metadata": {
    "colab": {
     "base_uri": "https://localhost:8080/",
     "height": 112
    },
    "colab_type": "code",
    "id": "mIImYNf13XRu",
    "outputId": "4eb08b6b-bbfc-46ad-d1cd-2db6037ce7a5"
   },
   "outputs": [
    {
     "data": {
      "text/html": [
       "\n",
       "    <div>\n",
       "        <style>\n",
       "            /* Turns off some styling */\n",
       "            progress {\n",
       "                /* gets rid of default border in Firefox and Opera. */\n",
       "                border: none;\n",
       "                /* Needs to be in here for Safari polyfill so background images work as expected. */\n",
       "                background-size: auto;\n",
       "            }\n",
       "            .progress-bar-interrupted, .progress-bar-interrupted::-webkit-progress-bar {\n",
       "                background: #F44336;\n",
       "            }\n",
       "        </style>\n",
       "      <progress value='0' class='' max='1' style='width:300px; height:20px; vertical-align: middle;'></progress>\n",
       "      0.00% [0/1 00:00<00:00]\n",
       "    </div>\n",
       "    \n",
       "<table border=\"1\" class=\"dataframe\">\n",
       "  <thead>\n",
       "    <tr style=\"text-align: left;\">\n",
       "      <th>epoch</th>\n",
       "      <th>train_loss</th>\n",
       "      <th>valid_loss</th>\n",
       "      <th>accuracy</th>\n",
       "      <th>time</th>\n",
       "    </tr>\n",
       "  </thead>\n",
       "  <tbody>\n",
       "  </tbody>\n",
       "</table><p>\n",
       "\n",
       "    <div>\n",
       "        <style>\n",
       "            /* Turns off some styling */\n",
       "            progress {\n",
       "                /* gets rid of default border in Firefox and Opera. */\n",
       "                border: none;\n",
       "                /* Needs to be in here for Safari polyfill so background images work as expected. */\n",
       "                background-size: auto;\n",
       "            }\n",
       "            .progress-bar-interrupted, .progress-bar-interrupted::-webkit-progress-bar {\n",
       "                background: #F44336;\n",
       "            }\n",
       "        </style>\n",
       "      <progress value='99' class='' max='8051' style='width:300px; height:20px; vertical-align: middle;'></progress>\n",
       "      1.23% [99/8051 01:02<1:24:03 11.8003]\n",
       "    </div>\n",
       "    "
      ],
      "text/plain": [
       "<IPython.core.display.HTML object>"
      ]
     },
     "metadata": {
      "tags": []
     },
     "output_type": "display_data"
    },
    {
     "name": "stdout",
     "output_type": "stream",
     "text": [
      "LR Finder is complete, type {learner_name}.recorder.plot() to see the graph.\n"
     ]
    }
   ],
   "source": [
    "learn.lr_find()"
   ]
  },
  {
   "cell_type": "code",
   "execution_count": 22,
   "metadata": {
    "colab": {
     "base_uri": "https://localhost:8080/",
     "height": 282
    },
    "colab_type": "code",
    "id": "3PhcEHAi3kjL",
    "outputId": "7b318c88-b25c-4497-af9f-1e0763b2bb2c"
   },
   "outputs": [
    {
     "data": {
      "image/png": "[encoded data removed]",
      "text/plain": [
       "<Figure size 432x288 with 1 Axes>"
      ]
     },
     "metadata": {
      "needs_background": "light",
      "tags": []
     },
     "output_type": "display_data"
    }
   ],
   "source": [
    "learn.recorder.plot(skip_end=15)"
   ]
  },
  {
   "cell_type": "code",
   "execution_count": 23,
   "metadata": {
    "colab": {
     "base_uri": "https://localhost:8080/",
     "height": 80
    },
    "colab_type": "code",
    "id": "QSPywRFj4m5s",
    "outputId": "59ba177c-7b62-44d8-88af-7d6d49a90878"
   },
   "outputs": [
    {
     "data": {
      "text/html": [
       "<table border=\"1\" class=\"dataframe\">\n",
       "  <thead>\n",
       "    <tr style=\"text-align: left;\">\n",
       "      <th>epoch</th>\n",
       "      <th>train_loss</th>\n",
       "      <th>valid_loss</th>\n",
       "      <th>accuracy</th>\n",
       "      <th>time</th>\n",
       "    </tr>\n",
       "  </thead>\n",
       "  <tbody>\n",
       "    <tr>\n",
       "      <td>0</td>\n",
       "      <td>4.169403</td>\n",
       "      <td>4.021929</td>\n",
       "      <td>0.295520</td>\n",
       "      <td>1:28:21</td>\n",
       "    </tr>\n",
       "  </tbody>\n",
       "</table>"
      ],
      "text/plain": [
       "<IPython.core.display.HTML object>"
      ]
     },
     "metadata": {
      "tags": []
     },
     "output_type": "display_data"
    }
   ],
   "source": [
    "learn.fit_one_cycle(1, 1e-02, moms=(0.8, 0.7))"
   ]
  },
  {
   "cell_type": "code",
   "execution_count": 24,
   "metadata": {
    "colab": {},
    "colab_type": "code",
    "id": "_YlD8Nsj6dvp"
   },
   "outputs": [],
   "source": [
    "learn.save('fit_head')"
   ]
  },
  {
   "cell_type": "code",
   "execution_count": 25,
   "metadata": {
    "colab": {},
    "colab_type": "code",
    "id": "cP_Flpag4RiU"
   },
   "outputs": [],
   "source": [
    "learn.load('fit_head');"
   ]
  },
  {
   "cell_type": "markdown",
   "metadata": {
    "colab_type": "text",
    "id": "BCUY07Ew4ZHz"
   },
   "source": [
    "**Training the Whole Model**"
   ]
  },
  {
   "cell_type": "code",
   "execution_count": 26,
   "metadata": {
    "colab": {},
    "colab_type": "code",
    "id": "dsSORXRL4WKf"
   },
   "outputs": [],
   "source": [
    "learn.unfreeze()"
   ]
  },
  {
   "cell_type": "code",
   "execution_count": 27,
   "metadata": {
    "colab": {
     "base_uri": "https://localhost:8080/",
     "height": 80
    },
    "colab_type": "code",
    "id": "DquEM7tb4iDn",
    "outputId": "f9a51f6e-e5ac-4025-fab0-ac88ef588ced"
   },
   "outputs": [
    {
     "data": {
      "text/html": [
       "<table border=\"1\" class=\"dataframe\">\n",
       "  <thead>\n",
       "    <tr style=\"text-align: left;\">\n",
       "      <th>epoch</th>\n",
       "      <th>train_loss</th>\n",
       "      <th>valid_loss</th>\n",
       "      <th>accuracy</th>\n",
       "      <th>time</th>\n",
       "    </tr>\n",
       "  </thead>\n",
       "  <tbody>\n",
       "    <tr>\n",
       "      <td>0</td>\n",
       "      <td>3.786507</td>\n",
       "      <td>3.734838</td>\n",
       "      <td>0.329110</td>\n",
       "      <td>1:37:57</td>\n",
       "    </tr>\n",
       "  </tbody>\n",
       "</table>"
      ],
      "text/plain": [
       "<IPython.core.display.HTML object>"
      ]
     },
     "metadata": {
      "tags": []
     },
     "output_type": "display_data"
    }
   ],
   "source": [
    "learn.fit_one_cycle(1, 1e-03, moms=(0.8, 0.7))"
   ]
  },
  {
   "cell_type": "code",
   "execution_count": 28,
   "metadata": {
    "colab": {},
    "colab_type": "code",
    "id": "xdAJ9avu4xhH"
   },
   "outputs": [],
   "source": [
    "learn.save(\"fine_tuned\")"
   ]
  },
  {
   "cell_type": "code",
   "execution_count": 29,
   "metadata": {
    "colab": {},
    "colab_type": "code",
    "id": "ipML7kbUQXEg"
   },
   "outputs": [],
   "source": [
    "learn.load('fine_tuned');"
   ]
  },
  {
   "cell_type": "code",
   "execution_count": 31,
   "metadata": {
    "colab": {},
    "colab_type": "code",
    "id": "of0WiDFEQj0u"
   },
   "outputs": [],
   "source": [
    "TEXT = \"I hate this movie because\"\n",
    "N_WORDS = 40\n",
    "N_SENTENCES = 2"
   ]
  },
  {
   "cell_type": "code",
   "execution_count": 32,
   "metadata": {
    "colab": {
     "base_uri": "https://localhost:8080/",
     "height": 71
    },
    "colab_type": "code",
    "id": "JE80EWk6Q1_j",
    "outputId": "906d7db1-71ab-4c11-935f-9a9e169b60f5"
   },
   "outputs": [
    {
     "name": "stdout",
     "output_type": "stream",
     "text": [
      "I hate this movie because i think it 's another movie of the same kind . i 've seen Ren & Stimpy and Stopping In The World and you have to watch the movie twice half a night and\n",
      "I hate this movie because it is so very bad . My husband and i were in bed . What we were thinking about was the first time i saw it . It called the \" Snow White \" .\n"
     ]
    }
   ],
   "source": [
    "print(\"\\n\".join(learn.predict(TEXT, N_WORDS, temperature=0.75) for _ in range(N_SENTENCES)))"
   ]
  },
  {
   "cell_type": "code",
   "execution_count": 33,
   "metadata": {
    "colab": {},
    "colab_type": "code",
    "id": "MHgT0DPURc0K"
   },
   "outputs": [],
   "source": [
    "learn.save_encoder(\"fine_tuned_enc\")"
   ]
  },
  {
   "cell_type": "markdown",
   "metadata": {
    "colab_type": "text",
    "id": "AdNXbziqRxfW"
   },
   "source": [
    "## **Classifier**"
   ]
  },
  {
   "cell_type": "code",
   "execution_count": 35,
   "metadata": {
    "colab": {},
    "colab_type": "code",
    "id": "yXcEs72qRm1B"
   },
   "outputs": [],
   "source": [
    "path = untar_data(URLs.IMDB)"
   ]
  },
  {
   "cell_type": "code",
   "execution_count": 51,
   "metadata": {
    "colab": {
     "base_uri": "https://localhost:8080/",
     "height": 17
    },
    "colab_type": "code",
    "id": "4E1lOoN5Ru7M",
    "outputId": "6f63a434-9d54-4014-86d5-3e32ac8a6ae1"
   },
   "outputs": [
    {
     "data": {
      "text/html": [],
      "text/plain": [
       "<IPython.core.display.HTML object>"
      ]
     },
     "metadata": {
      "tags": []
     },
     "output_type": "display_data"
    },
    {
     "data": {
      "text/html": [],
      "text/plain": [
       "<IPython.core.display.HTML object>"
      ]
     },
     "metadata": {
      "tags": []
     },
     "output_type": "display_data"
    }
   ],
   "source": [
    "data_cls = (TextList.from_folder(path, vocab=data_lm.vocab)\n",
    "            .split_by_folder(valid=\"test\")\n",
    "            .label_from_folder(classes=['neg', 'pos'])\n",
    "            .databunch(bs=bs))\n",
    "\n",
    "data_cls.save('data_cls.pkl')"
   ]
  },
  {
   "cell_type": "code",
   "execution_count": 52,
   "metadata": {
    "colab": {},
    "colab_type": "code",
    "id": "1MRl_Xy5S7vr"
   },
   "outputs": [],
   "source": [
    "data_cls = load_data(path, \"data_cls.pkl\", bs=bs)"
   ]
  },
  {
   "cell_type": "code",
   "execution_count": 38,
   "metadata": {
    "colab": {
     "base_uri": "https://localhost:8080/",
     "height": 323
    },
    "colab_type": "code",
    "id": "ajix24_KTfB3",
    "outputId": "4b45f89f-914e-4e98-bace-427ad87773d9"
   },
   "outputs": [
    {
     "data": {
      "text/html": [
       "<table border=\"1\" class=\"dataframe\">\n",
       "  <thead>\n",
       "    <tr style=\"text-align: right;\">\n",
       "      <th>text</th>\n",
       "      <th>target</th>\n",
       "    </tr>\n",
       "  </thead>\n",
       "  <tbody>\n",
       "    <tr>\n",
       "      <td>xxbos xxmaj match 1 : xxmaj tag xxmaj team xxmaj table xxmaj match xxmaj bubba xxmaj ray and xxmaj spike xxmaj dudley vs xxmaj eddie xxmaj guerrero and xxmaj chris xxmaj benoit xxmaj bubba xxmaj ray and xxmaj spike xxmaj dudley started things off with a xxmaj tag xxmaj team xxmaj table xxmaj match against xxmaj eddie xxmaj guerrero and xxmaj chris xxmaj benoit . xxmaj according to the rules</td>\n",
       "      <td>pos</td>\n",
       "    </tr>\n",
       "    <tr>\n",
       "      <td>xxbos xxmaj some have praised xxunk xxmaj lost xxmaj xxunk as a xxmaj disney adventure for adults . i do n't think so -- at least not for thinking adults . \\n \\n  xxmaj this script suggests a beginning as a live - action movie , that struck someone as the type of crap you can not sell to adults anymore . xxmaj the \" crack staff \" of</td>\n",
       "      <td>neg</td>\n",
       "    </tr>\n",
       "    <tr>\n",
       "      <td>xxbos xxmaj this movie was recently released on xxup dvd in the xxup us and i finally got the chance to see this hard - to - find gem . xxmaj it even came with original theatrical previews of other xxmaj italian horror classics like \" xxup xxunk \" and \" xxup beyond xxup the xxup darkness \" . xxmaj unfortunately , the previews were the best thing about this</td>\n",
       "      <td>neg</td>\n",
       "    </tr>\n",
       "    <tr>\n",
       "      <td>xxbos xxmaj director xxmaj douglas xxmaj sirk once said ` there 's a very short distance between high art and trash , and trash that contains craziness is by this very quality nearer to art ' . xxmaj this statement defines his cinema perfectly , a very unique body of work that includes classic stage adaptations , adventure and war films , westerns and of course , his famous melodramas</td>\n",
       "      <td>pos</td>\n",
       "    </tr>\n",
       "    <tr>\n",
       "      <td>xxbos i felt duty bound to watch the 1983 xxmaj timothy xxmaj dalton / xxmaj zelah xxmaj clarke adaptation of \" xxmaj jane xxmaj eyre , \" because i 'd just written an article about the 2006 xxup bbc \" xxmaj jane xxmaj eyre \" for xxunk . \\n \\n  xxmaj so , i approached watching this the way i 'd approach doing homework . \\n \\n  i</td>\n",
       "      <td>pos</td>\n",
       "    </tr>\n",
       "  </tbody>\n",
       "</table>"
      ],
      "text/plain": [
       "<IPython.core.display.HTML object>"
      ]
     },
     "metadata": {
      "tags": []
     },
     "output_type": "display_data"
    }
   ],
   "source": [
    "data_cls.show_batch()"
   ]
  },
  {
   "cell_type": "code",
   "execution_count": 53,
   "metadata": {
    "colab": {
     "base_uri": "https://localhost:8080/",
     "height": 1000
    },
    "colab_type": "code",
    "id": "Bjybc-kmTioi",
    "outputId": "15f7fdc9-e54f-4093-81f6-52f39e4a7910"
   },
   "outputs": [
    {
     "data": {
      "text/plain": [
       "RNNLearner(data=TextClasDataBunch;\n",
       "\n",
       "Train: LabelList (25000 items)\n",
       "x: TextList\n",
       "xxbos xxup mpaa : xxmaj rated r for xxmaj violence , xxmaj language , xxmaj nudity and xxmaj brief xxmaj drug xxmaj use . xxmaj quebec xxmaj rating:13 + xxmaj canadian xxmaj home xxmaj video xxunk \n",
       " \n",
       "  i saw xxmaj coonskin today . xxmaj this film is also known as xxmaj bustin xxmaj out and xxmaj street xxmaj fight . xxmaj after watching xxmaj fritz xxmaj the xxmaj cat , i wanted to see more of xxmaj bashki 's films . i saw xxmaj cool xxmaj world and thought it was mediocre and i saw this . xxmaj when it was first released , the film was very controversial . xxmaj it was considered racist and xxmaj al xxmaj sharpton wanted the film banned , he even led protests outside the theatre where the film was playing . xxmaj the film was only released on xxup vhs under the title \" xxmaj street xxmaj xxunk . xxmaj it is now considered a cult - classic film and xxmaj african - xxmaj american celebrities such as comedian xxmaj richard xxmaj pryor , director xxmaj spike xxmaj lee and the rap group xxmaj the xxmaj wu - xxmaj tang xxmaj clan are said to have enjoyed this film . i personally thought xxmaj fritz xxmaj the xxmaj cat was a much better film but this is very enjoyable as well . xxmaj worth watching for xxmaj bashki or xxmaj blaxploitation film fans . xxmaj the film mixes live action and animation sort of like the film xxmaj who xxmaj framed xxmaj roger xxmaj rabbit . i would have preferred it in full animation but whatever . xxmaj the film starts off with a reverend and another man racing to rescue two of their friends from prison . xxmaj while the prisoners wait , the older one tells a story of three men he knew . xxmaj the film then switches into animation format , we see three black men who sold their house to this man . xxmaj they decide to make names for themselves in xxmaj harlem . xxmaj so the leader , a black rabbit , kills a big player in xxmaj harlem and he basically becomes a big shot . xxmaj the film moves on as the xxmaj italian mafia want him out . xxmaj the mafia involves the godfather , his three sons who are homosexual and an xxmaj italian clown . xxmaj coonskin is an entertaining animated film that 's worth checking out , if you can find it .,xxbos xxmaj while i was the video store i was browsing through the one dollar rentals and came upon this little gem . i do n't know what it was about it but i just had a gut xxunk about it and wow was i ever right . \n",
       " \n",
       "  xxmaj the story centers around two girls who have just survived a school shooting . xxmaj one of the girls is xxmaj alicia a teenage xxunk who is the only witness for the full attack and another is xxmaj deanna another survivor who survived a bullet to the head by some miracle . xxmaj thrown together by fate , they slowly begin a painful and beautiful display of healing and moving on . \n",
       " \n",
       "  i just hate it when amazing movies fall through the cracks . xxmaj because wow what a performance by xxmaj busy xxmaj phillips and xxmaj xxunk xxmaj christensen not to mention the rest of the cast ! xxmaj my only complaint is that the xxup dvd was sorely lacking in special features . xxmaj oh and some of the jump cuts in the movie were kind of jarring . xxmaj but all in all a excellent movie .,xxbos i thought this was a splendid showcase for xxmaj mandy 's bodacious bod . xxmaj if you do n't expect anything else , such as clever plot twists and believable character development , you wo n't be disappointed . xxmaj consider this a xxmaj sports xxmaj illustrated shoot whose character goes around killing people , especially those who threaten to come between her and her ' xxmaj mommy ' ( xxmaj suzanna xxmaj arquette , who obviously does n't want to play the sex kitten - she leaves that up to her daughter ) . \n",
       " \n",
       "  xxmaj mandy 's face is a little too perfect , but her body is a complete xxunk fire , up there in the ranks of xxmaj sophia xxmaj loren when it comes to natural xxunk , a perfect xxunk ratio of waist to hips , and splendidly configured legs , right down to her feet . ( xxmaj there has to be some ideal configuration of thighs to knees to calves to ankles that is altogether pleasing to the eye ; xxmaj mandy certainly is the model for this idealized ratio ) . \n",
       " \n",
       "  xxmaj and no flat butt to boot , which seems to be the undoing of many a busty babe with curves everywhere except in the ' nether xxunk ' . xxmaj mandy might have used a body double in the rear shot of her losing her towel as she descended into the candle - lit hot tub with her blindfolded xxmaj german - xxmaj guy xxmaj victim xxmaj no . 2 , but from all i could see from her bikini shots , she had the butt for it and did n't need a double to prove it . \n",
       " \n",
       "  xxmaj mandy 's acting abilities had little to do with her impression of a psychotic ' xxmaj mommy 's xxmaj girl ' , with the obvious erotic lesbian overtones . xxmaj her bisexual nature ( allowing herself to be xxunk in the hot tub after a long flirtation with xxmaj german xxmaj guy xxmaj no . 2 , who also happened to be her mother 's lover ) added an additional dimension to an otherwise one - dimensional caricature of adolescent female horniness conflicted with pathological murderous impulses ( always by water with the men - the ultimate fate of the xxmaj latina housekeeper was edited out in the televised version for some obscure reason ) . \n",
       " \n",
       "  xxmaj mandy 's xxmaj uber - xxmaj nordic facial features coupled with her xxmaj uber - xxmaj voluptuous body could either be a blessing or a curse . xxmaj if xxmaj mandy really wants to further her career as an actress , i 'd advise her to immerse herself fully in the xxmaj romance xxmaj languages , especially xxmaj italian and xxmaj spanish - and maybe xxmaj french , although i do n't know if they would go for her type . xxmaj but this would enable her to reconcile her xxmaj bo xxmaj derek face with her xxmaj vida xxmaj guerra body - but maybe her face is just a little too xxmaj nordic , and she has shown off too much of her extraordinary body in a cheesy movie to enable her to advance to any more fame that was enjoyed by xxmaj michelle xxmaj johnson of the 1980 's whose early fame in xxmaj blame it on xxmaj rio was followed by a series of skin flicks that failed to make it off the ground . \n",
       " \n",
       "  xxmaj xxunk xxmaj xxunk .,xxbos xxmaj just a note to add to the above comment . xxmaj fear of a xxmaj black xxmaj hat does n't have the criminal who 's image has been ripped off by the band , that 's in xxup cb4 . xxmaj easily confused as the two films are so similar , but xxmaj black xxmaj hat is vastly the superior of the two xxrep 5 . yeah .,xxbos xxmaj my boyfriend and i both enjoyed this film very much . xxmaj the viewer is swept away from modern life into old xxmaj japan , while at the same time exposed to very current themes . xxmaj the characters are realistic and detailed ; it has an unpredictable ending and story , which is very refreshing . xxmaj the story is made up of mini - plots within the life of several geisha living together in a poor city district . i highly recommend this movie to anyone who is interested in a realistic romance or life in old xxmaj japan . \n",
       " \n",
       " \n",
       "y: CategoryList\n",
       "pos,pos,pos,pos,pos\n",
       "Path: /content/data/imdb;\n",
       "\n",
       "Valid: LabelList (25000 items)\n",
       "x: TextList\n",
       "xxbos i saw this movie a fews years ago and was literally swept away by it . xxmaj so charming and so very romantic . xxmaj david xxmaj duchovny and xxmaj ms. xxmaj driver have chemistry that is so hot , you will need to take off a layer of clothing . xxmaj the supporting cast is 100 % top notch . xxmaj just watching xxmaj caroll o'connor and xxmaj robert xxmaj loggia play off one another is pure poetry . xxmaj bonnie xxmaj hunt and xxmaj jim xxmaj xxunk and a wonderful team and some of the films most charming moments are when they are on the screen . xxmaj like xxmaj jim xxmaj belushi screaming at his children to go to sleep \" xxup forever ! \" or him dancing in the kitchen . xxmaj this film made we wish i knew people like that in my own life . xxmaj not to mention , what woman does not want xxmaj david xxmaj duchovny for a boyfriend ?,xxbos i just want xxmaj to say that this movie was excellent . \n",
       " \n",
       "  i loved it from the beginning until the end . \n",
       " \n",
       "  xxmaj the acting was great .the director did an amazing job and i would like to see it again . \n",
       " \n",
       "  xxmaj jennifer xxmaj tilly did a very good performance , xxmaj the guy that interpreted his father ( xxmaj manny ) was another great actor xxup but i xxup can xxup not xxup recall xxup his xxup name . \n",
       " \n",
       "  i ca n't wait for xxmaj el xxmaj padrino xxup ii . \n",
       " \n",
       "  xxmaj damian xxmaj chapa looks so good and i think he is one of the most talented actors out there . xxmaj there is xxunk of xxmaj latin actors that do a great job like it is shown in this film ! \n",
       " \n",
       "  xxmaj rent xxmaj it ! ! ! xxmaj rent it ! ! ! xxmaj rent it ! ! !,xxbos xxmaj this is a very well done film showing the life of international students during their \" xxmaj erasmus year \" in xxmaj barcelona which by the way is one of the most beautiful towns in xxmaj europe and is an ideal location . \n",
       " \n",
       "  xxmaj the idea itself with all the different languages is great and gives the film an original atmosphere . xxmaj there are some clichés about the countries but most of them are true ! xxmaj the characters could not better represent their different countries . \n",
       " \n",
       "  xxmaj having experienced \" xxmaj erasmus \" on myself during my xxunk semester in xxmaj italy i can say that is movie is incredibly authentic . i had many experiences which were similar to the characters ( except i did n't get laid as often ) . xxmaj the movie is also quite funny yet not like all those stupid xxmaj american college movies . \n",
       " \n",
       "  xxmaj finally the movie touches also some important issues like the change from student to work life . \n",
       " \n",
       "  9 / 10 ( i may not be very objective though ),xxbos xxmaj with \" xxmaj batman xxmaj returns \" , xxmaj tim xxmaj burton succumbed to an important priority in xxmaj american cinema : giving a sequel to a blockbuster . xxmaj three years after the most successful movie of the year , \" xxmaj batman \" ( 1989 ) , here comes the hero of xxmaj gotham xxmaj city again for the pleasure of many spectators . xxmaj like its predecessor , \" xxmaj batman xxmaj returns \" enjoyed an enormous commercial success . xxmaj tim xxmaj burton made xxmaj batman come back once again because it is to believe that the victory of the latter on his enemy the xxmaj joker did little to improve the image of xxmaj gotham xxmaj city . xxmaj indeed , violence and corruption still exist and here , the second word is epitomized by xxmaj max xxmaj shreck ( xxmaj christopher xxmaj walken ) and the penguin ( xxmaj danny xxmaj de xxmaj vito ) . xxmaj these two crooks who are eager to take control of xxmaj gotham xxmaj city are going to make life difficult for xxmaj batman . xxmaj his task will be more difficult with the apparition of xxmaj catwoman ... \n",
       " \n",
       "  xxmaj tim xxmaj burton still delivered much work on the scenery and it seems that he tried to correct the faults of the first movie . xxmaj it means that the director gave way to fight sequences which are better mastered than in the first xxmaj batman . xxmaj but he did n't neglect the psychology of his main characters for all that . xxmaj if in the movie of 1989 , xxmaj burton had focused on xxmaj bruce xxmaj wayne / xxmaj batman 's psychology , here , it 's the penguin that obviously interested him . xxmaj the director attempted to make of him , very well acted by xxmaj de xxmaj vito an ambiguous character . xxmaj on one hand , he 's full of bad intentions ( previously quoted ) but on the other hand , he 's searching for his past and would like to be considered as a real man . \n",
       " \n",
       "  \" xxmaj batman xxmaj returns \" also appears as crazier than its predecessor , especially with the cast . i think of xxmaj michèle xxmaj pfeiffer who offers a daring and powerful performance as xxmaj catwoman . xxmaj besides , at the time when i 'm writing this review , it makes me remember that a new version of xxmaj catwoman is currently at the cinema . xxmaj but given the bad reviews ( 3 out of 10 on imdb ! ) , it is sure that her performer xxmaj halle xxmaj berry must pale into insignificance beside xxmaj pfeiffer . \n",
       " \n",
       "  xxmaj ultimately , this film is one of the best sequels of 1992 and it enables to develop xxmaj tim xxmaj burton 's peculiar style . xxmaj we also still find his taste for the strange and the xxmaj gothic . xxmaj concerning xxmaj batman 's other adaptations for the screen , you can skip them . \" xxmaj batman xxmaj forever \" ( 1995 ) and \" xxmaj batman and xxmaj robin \" ( 1997 ) are no good . i heard that xxmaj christopher xxmaj nolan was shooting the beginning of the xxmaj batman story and it was to be released next year . xxmaj will it match xxmaj tim xxmaj burton 's works ?,xxbos xxmaj imagine you have the opportunity to see yourself again as a kid . xxmaj now think what would happen if you had the chance to speak with your younger self , or even change him / you . xxmaj would you try to influence or try to change your younger self 's beliefs in light of your future experience ? xxmaj or perhaps the encounter would change your older self 's perception of life and reality ? \n",
       " \n",
       "  xxmaj walt xxmaj disney 's xxmaj the xxmaj kid tries to engage this complex thought by putting \" older self \" xxmaj bruce xxmaj willis in a collision course with \" younger self \" xxmaj spenser xxmaj breslin ( from xxmaj the xxmaj santa xxmaj clause 2 and xxmaj the xxmaj cat in the xxmaj hat \" fame \" ) . xxmaj the result is a sometimes funny sometimes touching encounter , which makes you ponder about your own past , present and future  and truly believe it is never too late to change your course .\n",
       "y: CategoryList\n",
       "pos,pos,pos,pos,pos\n",
       "Path: /content/data/imdb;\n",
       "\n",
       "Test: None, model=SequentialRNN(\n",
       "  (0): MultiBatchEncoder(\n",
       "    (module): AWD_LSTM(\n",
       "      (encoder): Embedding(60000, 400, padding_idx=1)\n",
       "      (encoder_dp): EmbeddingDropout(\n",
       "        (emb): Embedding(60000, 400, padding_idx=1)\n",
       "      )\n",
       "      (rnns): ModuleList(\n",
       "        (0): WeightDropout(\n",
       "          (module): LSTM(400, 1152, batch_first=True)\n",
       "        )\n",
       "        (1): WeightDropout(\n",
       "          (module): LSTM(1152, 1152, batch_first=True)\n",
       "        )\n",
       "        (2): WeightDropout(\n",
       "          (module): LSTM(1152, 400, batch_first=True)\n",
       "        )\n",
       "      )\n",
       "      (input_dp): RNNDropout()\n",
       "      (hidden_dps): ModuleList(\n",
       "        (0): RNNDropout()\n",
       "        (1): RNNDropout()\n",
       "        (2): RNNDropout()\n",
       "      )\n",
       "    )\n",
       "  )\n",
       "  (1): PoolingLinearClassifier(\n",
       "    (layers): Sequential(\n",
       "      (0): BatchNorm1d(1200, eps=1e-05, momentum=0.1, affine=True, track_running_stats=True)\n",
       "      (1): Dropout(p=0.2, inplace=False)\n",
       "      (2): Linear(in_features=1200, out_features=50, bias=True)\n",
       "      (3): ReLU(inplace=True)\n",
       "      (4): BatchNorm1d(50, eps=1e-05, momentum=0.1, affine=True, track_running_stats=True)\n",
       "      (5): Dropout(p=0.1, inplace=False)\n",
       "      (6): Linear(in_features=50, out_features=2, bias=True)\n",
       "    )\n",
       "  )\n",
       "), opt_func=functools.partial(<class 'torch.optim.adam.Adam'>, betas=(0.9, 0.99)), loss_func=FlattenedLoss of CrossEntropyLoss(), metrics=[<function accuracy at 0x7f2d0cd5e9d8>], true_wd=True, bn_wd=True, wd=0.01, train_bn=True, path=PosixPath('/content/data/imdb'), model_dir='models', callback_fns=[functools.partial(<class 'fastai.basic_train.Recorder'>, add_time=True, silent=False)], callbacks=[RNNTrainer\n",
       "learn: RNNLearner(data=TextClasDataBunch;\n",
       "\n",
       "Train: LabelList (25000 items)\n",
       "x: TextList\n",
       "xxbos xxup mpaa : xxmaj rated r for xxmaj violence , xxmaj language , xxmaj nudity and xxmaj brief xxmaj drug xxmaj use . xxmaj quebec xxmaj rating:13 + xxmaj canadian xxmaj home xxmaj video xxunk \n",
       " \n",
       "  i saw xxmaj coonskin today . xxmaj this film is also known as xxmaj bustin xxmaj out and xxmaj street xxmaj fight . xxmaj after watching xxmaj fritz xxmaj the xxmaj cat , i wanted to see more of xxmaj bashki 's films . i saw xxmaj cool xxmaj world and thought it was mediocre and i saw this . xxmaj when it was first released , the film was very controversial . xxmaj it was considered racist and xxmaj al xxmaj sharpton wanted the film banned , he even led protests outside the theatre where the film was playing . xxmaj the film was only released on xxup vhs under the title \" xxmaj street xxmaj xxunk . xxmaj it is now considered a cult - classic film and xxmaj african - xxmaj american celebrities such as comedian xxmaj richard xxmaj pryor , director xxmaj spike xxmaj lee and the rap group xxmaj the xxmaj wu - xxmaj tang xxmaj clan are said to have enjoyed this film . i personally thought xxmaj fritz xxmaj the xxmaj cat was a much better film but this is very enjoyable as well . xxmaj worth watching for xxmaj bashki or xxmaj blaxploitation film fans . xxmaj the film mixes live action and animation sort of like the film xxmaj who xxmaj framed xxmaj roger xxmaj rabbit . i would have preferred it in full animation but whatever . xxmaj the film starts off with a reverend and another man racing to rescue two of their friends from prison . xxmaj while the prisoners wait , the older one tells a story of three men he knew . xxmaj the film then switches into animation format , we see three black men who sold their house to this man . xxmaj they decide to make names for themselves in xxmaj harlem . xxmaj so the leader , a black rabbit , kills a big player in xxmaj harlem and he basically becomes a big shot . xxmaj the film moves on as the xxmaj italian mafia want him out . xxmaj the mafia involves the godfather , his three sons who are homosexual and an xxmaj italian clown . xxmaj coonskin is an entertaining animated film that 's worth checking out , if you can find it .,xxbos xxmaj while i was the video store i was browsing through the one dollar rentals and came upon this little gem . i do n't know what it was about it but i just had a gut xxunk about it and wow was i ever right . \n",
       " \n",
       "  xxmaj the story centers around two girls who have just survived a school shooting . xxmaj one of the girls is xxmaj alicia a teenage xxunk who is the only witness for the full attack and another is xxmaj deanna another survivor who survived a bullet to the head by some miracle . xxmaj thrown together by fate , they slowly begin a painful and beautiful display of healing and moving on . \n",
       " \n",
       "  i just hate it when amazing movies fall through the cracks . xxmaj because wow what a performance by xxmaj busy xxmaj phillips and xxmaj xxunk xxmaj christensen not to mention the rest of the cast ! xxmaj my only complaint is that the xxup dvd was sorely lacking in special features . xxmaj oh and some of the jump cuts in the movie were kind of jarring . xxmaj but all in all a excellent movie .,xxbos i thought this was a splendid showcase for xxmaj mandy 's bodacious bod . xxmaj if you do n't expect anything else , such as clever plot twists and believable character development , you wo n't be disappointed . xxmaj consider this a xxmaj sports xxmaj illustrated shoot whose character goes around killing people , especially those who threaten to come between her and her ' xxmaj mommy ' ( xxmaj suzanna xxmaj arquette , who obviously does n't want to play the sex kitten - she leaves that up to her daughter ) . \n",
       " \n",
       "  xxmaj mandy 's face is a little too perfect , but her body is a complete xxunk fire , up there in the ranks of xxmaj sophia xxmaj loren when it comes to natural xxunk , a perfect xxunk ratio of waist to hips , and splendidly configured legs , right down to her feet . ( xxmaj there has to be some ideal configuration of thighs to knees to calves to ankles that is altogether pleasing to the eye ; xxmaj mandy certainly is the model for this idealized ratio ) . \n",
       " \n",
       "  xxmaj and no flat butt to boot , which seems to be the undoing of many a busty babe with curves everywhere except in the ' nether xxunk ' . xxmaj mandy might have used a body double in the rear shot of her losing her towel as she descended into the candle - lit hot tub with her blindfolded xxmaj german - xxmaj guy xxmaj victim xxmaj no . 2 , but from all i could see from her bikini shots , she had the butt for it and did n't need a double to prove it . \n",
       " \n",
       "  xxmaj mandy 's acting abilities had little to do with her impression of a psychotic ' xxmaj mommy 's xxmaj girl ' , with the obvious erotic lesbian overtones . xxmaj her bisexual nature ( allowing herself to be xxunk in the hot tub after a long flirtation with xxmaj german xxmaj guy xxmaj no . 2 , who also happened to be her mother 's lover ) added an additional dimension to an otherwise one - dimensional caricature of adolescent female horniness conflicted with pathological murderous impulses ( always by water with the men - the ultimate fate of the xxmaj latina housekeeper was edited out in the televised version for some obscure reason ) . \n",
       " \n",
       "  xxmaj mandy 's xxmaj uber - xxmaj nordic facial features coupled with her xxmaj uber - xxmaj voluptuous body could either be a blessing or a curse . xxmaj if xxmaj mandy really wants to further her career as an actress , i 'd advise her to immerse herself fully in the xxmaj romance xxmaj languages , especially xxmaj italian and xxmaj spanish - and maybe xxmaj french , although i do n't know if they would go for her type . xxmaj but this would enable her to reconcile her xxmaj bo xxmaj derek face with her xxmaj vida xxmaj guerra body - but maybe her face is just a little too xxmaj nordic , and she has shown off too much of her extraordinary body in a cheesy movie to enable her to advance to any more fame that was enjoyed by xxmaj michelle xxmaj johnson of the 1980 's whose early fame in xxmaj blame it on xxmaj rio was followed by a series of skin flicks that failed to make it off the ground . \n",
       " \n",
       "  xxmaj xxunk xxmaj xxunk .,xxbos xxmaj just a note to add to the above comment . xxmaj fear of a xxmaj black xxmaj hat does n't have the criminal who 's image has been ripped off by the band , that 's in xxup cb4 . xxmaj easily confused as the two films are so similar , but xxmaj black xxmaj hat is vastly the superior of the two xxrep 5 . yeah .,xxbos xxmaj my boyfriend and i both enjoyed this film very much . xxmaj the viewer is swept away from modern life into old xxmaj japan , while at the same time exposed to very current themes . xxmaj the characters are realistic and detailed ; it has an unpredictable ending and story , which is very refreshing . xxmaj the story is made up of mini - plots within the life of several geisha living together in a poor city district . i highly recommend this movie to anyone who is interested in a realistic romance or life in old xxmaj japan . \n",
       " \n",
       " \n",
       "y: CategoryList\n",
       "pos,pos,pos,pos,pos\n",
       "Path: /content/data/imdb;\n",
       "\n",
       "Valid: LabelList (25000 items)\n",
       "x: TextList\n",
       "xxbos i saw this movie a fews years ago and was literally swept away by it . xxmaj so charming and so very romantic . xxmaj david xxmaj duchovny and xxmaj ms. xxmaj driver have chemistry that is so hot , you will need to take off a layer of clothing . xxmaj the supporting cast is 100 % top notch . xxmaj just watching xxmaj caroll o'connor and xxmaj robert xxmaj loggia play off one another is pure poetry . xxmaj bonnie xxmaj hunt and xxmaj jim xxmaj xxunk and a wonderful team and some of the films most charming moments are when they are on the screen . xxmaj like xxmaj jim xxmaj belushi screaming at his children to go to sleep \" xxup forever ! \" or him dancing in the kitchen . xxmaj this film made we wish i knew people like that in my own life . xxmaj not to mention , what woman does not want xxmaj david xxmaj duchovny for a boyfriend ?,xxbos i just want xxmaj to say that this movie was excellent . \n",
       " \n",
       "  i loved it from the beginning until the end . \n",
       " \n",
       "  xxmaj the acting was great .the director did an amazing job and i would like to see it again . \n",
       " \n",
       "  xxmaj jennifer xxmaj tilly did a very good performance , xxmaj the guy that interpreted his father ( xxmaj manny ) was another great actor xxup but i xxup can xxup not xxup recall xxup his xxup name . \n",
       " \n",
       "  i ca n't wait for xxmaj el xxmaj padrino xxup ii . \n",
       " \n",
       "  xxmaj damian xxmaj chapa looks so good and i think he is one of the most talented actors out there . xxmaj there is xxunk of xxmaj latin actors that do a great job like it is shown in this film ! \n",
       " \n",
       "  xxmaj rent xxmaj it ! ! ! xxmaj rent it ! ! ! xxmaj rent it ! ! !,xxbos xxmaj this is a very well done film showing the life of international students during their \" xxmaj erasmus year \" in xxmaj barcelona which by the way is one of the most beautiful towns in xxmaj europe and is an ideal location . \n",
       " \n",
       "  xxmaj the idea itself with all the different languages is great and gives the film an original atmosphere . xxmaj there are some clichés about the countries but most of them are true ! xxmaj the characters could not better represent their different countries . \n",
       " \n",
       "  xxmaj having experienced \" xxmaj erasmus \" on myself during my xxunk semester in xxmaj italy i can say that is movie is incredibly authentic . i had many experiences which were similar to the characters ( except i did n't get laid as often ) . xxmaj the movie is also quite funny yet not like all those stupid xxmaj american college movies . \n",
       " \n",
       "  xxmaj finally the movie touches also some important issues like the change from student to work life . \n",
       " \n",
       "  9 / 10 ( i may not be very objective though ),xxbos xxmaj with \" xxmaj batman xxmaj returns \" , xxmaj tim xxmaj burton succumbed to an important priority in xxmaj american cinema : giving a sequel to a blockbuster . xxmaj three years after the most successful movie of the year , \" xxmaj batman \" ( 1989 ) , here comes the hero of xxmaj gotham xxmaj city again for the pleasure of many spectators . xxmaj like its predecessor , \" xxmaj batman xxmaj returns \" enjoyed an enormous commercial success . xxmaj tim xxmaj burton made xxmaj batman come back once again because it is to believe that the victory of the latter on his enemy the xxmaj joker did little to improve the image of xxmaj gotham xxmaj city . xxmaj indeed , violence and corruption still exist and here , the second word is epitomized by xxmaj max xxmaj shreck ( xxmaj christopher xxmaj walken ) and the penguin ( xxmaj danny xxmaj de xxmaj vito ) . xxmaj these two crooks who are eager to take control of xxmaj gotham xxmaj city are going to make life difficult for xxmaj batman . xxmaj his task will be more difficult with the apparition of xxmaj catwoman ... \n",
       " \n",
       "  xxmaj tim xxmaj burton still delivered much work on the scenery and it seems that he tried to correct the faults of the first movie . xxmaj it means that the director gave way to fight sequences which are better mastered than in the first xxmaj batman . xxmaj but he did n't neglect the psychology of his main characters for all that . xxmaj if in the movie of 1989 , xxmaj burton had focused on xxmaj bruce xxmaj wayne / xxmaj batman 's psychology , here , it 's the penguin that obviously interested him . xxmaj the director attempted to make of him , very well acted by xxmaj de xxmaj vito an ambiguous character . xxmaj on one hand , he 's full of bad intentions ( previously quoted ) but on the other hand , he 's searching for his past and would like to be considered as a real man . \n",
       " \n",
       "  \" xxmaj batman xxmaj returns \" also appears as crazier than its predecessor , especially with the cast . i think of xxmaj michèle xxmaj pfeiffer who offers a daring and powerful performance as xxmaj catwoman . xxmaj besides , at the time when i 'm writing this review , it makes me remember that a new version of xxmaj catwoman is currently at the cinema . xxmaj but given the bad reviews ( 3 out of 10 on imdb ! ) , it is sure that her performer xxmaj halle xxmaj berry must pale into insignificance beside xxmaj pfeiffer . \n",
       " \n",
       "  xxmaj ultimately , this film is one of the best sequels of 1992 and it enables to develop xxmaj tim xxmaj burton 's peculiar style . xxmaj we also still find his taste for the strange and the xxmaj gothic . xxmaj concerning xxmaj batman 's other adaptations for the screen , you can skip them . \" xxmaj batman xxmaj forever \" ( 1995 ) and \" xxmaj batman and xxmaj robin \" ( 1997 ) are no good . i heard that xxmaj christopher xxmaj nolan was shooting the beginning of the xxmaj batman story and it was to be released next year . xxmaj will it match xxmaj tim xxmaj burton 's works ?,xxbos xxmaj imagine you have the opportunity to see yourself again as a kid . xxmaj now think what would happen if you had the chance to speak with your younger self , or even change him / you . xxmaj would you try to influence or try to change your younger self 's beliefs in light of your future experience ? xxmaj or perhaps the encounter would change your older self 's perception of life and reality ? \n",
       " \n",
       "  xxmaj walt xxmaj disney 's xxmaj the xxmaj kid tries to engage this complex thought by putting \" older self \" xxmaj bruce xxmaj willis in a collision course with \" younger self \" xxmaj spenser xxmaj breslin ( from xxmaj the xxmaj santa xxmaj clause 2 and xxmaj the xxmaj cat in the xxmaj hat \" fame \" ) . xxmaj the result is a sometimes funny sometimes touching encounter , which makes you ponder about your own past , present and future  and truly believe it is never too late to change your course .\n",
       "y: CategoryList\n",
       "pos,pos,pos,pos,pos\n",
       "Path: /content/data/imdb;\n",
       "\n",
       "Test: None, model=SequentialRNN(\n",
       "  (0): MultiBatchEncoder(\n",
       "    (module): AWD_LSTM(\n",
       "      (encoder): Embedding(60000, 400, padding_idx=1)\n",
       "      (encoder_dp): EmbeddingDropout(\n",
       "        (emb): Embedding(60000, 400, padding_idx=1)\n",
       "      )\n",
       "      (rnns): ModuleList(\n",
       "        (0): WeightDropout(\n",
       "          (module): LSTM(400, 1152, batch_first=True)\n",
       "        )\n",
       "        (1): WeightDropout(\n",
       "          (module): LSTM(1152, 1152, batch_first=True)\n",
       "        )\n",
       "        (2): WeightDropout(\n",
       "          (module): LSTM(1152, 400, batch_first=True)\n",
       "        )\n",
       "      )\n",
       "      (input_dp): RNNDropout()\n",
       "      (hidden_dps): ModuleList(\n",
       "        (0): RNNDropout()\n",
       "        (1): RNNDropout()\n",
       "        (2): RNNDropout()\n",
       "      )\n",
       "    )\n",
       "  )\n",
       "  (1): PoolingLinearClassifier(\n",
       "    (layers): Sequential(\n",
       "      (0): BatchNorm1d(1200, eps=1e-05, momentum=0.1, affine=True, track_running_stats=True)\n",
       "      (1): Dropout(p=0.2, inplace=False)\n",
       "      (2): Linear(in_features=1200, out_features=50, bias=True)\n",
       "      (3): ReLU(inplace=True)\n",
       "      (4): BatchNorm1d(50, eps=1e-05, momentum=0.1, affine=True, track_running_stats=True)\n",
       "      (5): Dropout(p=0.1, inplace=False)\n",
       "      (6): Linear(in_features=50, out_features=2, bias=True)\n",
       "    )\n",
       "  )\n",
       "), opt_func=functools.partial(<class 'torch.optim.adam.Adam'>, betas=(0.9, 0.99)), loss_func=FlattenedLoss of CrossEntropyLoss(), metrics=[<function accuracy at 0x7f2d0cd5e9d8>], true_wd=True, bn_wd=True, wd=0.01, train_bn=True, path=PosixPath('/content/data/imdb'), model_dir='models', callback_fns=[functools.partial(<class 'fastai.basic_train.Recorder'>, add_time=True, silent=False)], callbacks=[...], layer_groups=[Sequential(\n",
       "  (0): Embedding(60000, 400, padding_idx=1)\n",
       "  (1): EmbeddingDropout(\n",
       "    (emb): Embedding(60000, 400, padding_idx=1)\n",
       "  )\n",
       "), Sequential(\n",
       "  (0): WeightDropout(\n",
       "    (module): LSTM(400, 1152, batch_first=True)\n",
       "  )\n",
       "  (1): RNNDropout()\n",
       "), Sequential(\n",
       "  (0): WeightDropout(\n",
       "    (module): LSTM(1152, 1152, batch_first=True)\n",
       "  )\n",
       "  (1): RNNDropout()\n",
       "), Sequential(\n",
       "  (0): WeightDropout(\n",
       "    (module): LSTM(1152, 400, batch_first=True)\n",
       "  )\n",
       "  (1): RNNDropout()\n",
       "), Sequential(\n",
       "  (0): PoolingLinearClassifier(\n",
       "    (layers): Sequential(\n",
       "      (0): BatchNorm1d(1200, eps=1e-05, momentum=0.1, affine=True, track_running_stats=True)\n",
       "      (1): Dropout(p=0.2, inplace=False)\n",
       "      (2): Linear(in_features=1200, out_features=50, bias=True)\n",
       "      (3): ReLU(inplace=True)\n",
       "      (4): BatchNorm1d(50, eps=1e-05, momentum=0.1, affine=True, track_running_stats=True)\n",
       "      (5): Dropout(p=0.1, inplace=False)\n",
       "      (6): Linear(in_features=50, out_features=2, bias=True)\n",
       "    )\n",
       "  )\n",
       ")], add_time=True, silent=False)\n",
       "alpha: 2.0\n",
       "beta: 1.0], layer_groups=[Sequential(\n",
       "  (0): Embedding(60000, 400, padding_idx=1)\n",
       "  (1): EmbeddingDropout(\n",
       "    (emb): Embedding(60000, 400, padding_idx=1)\n",
       "  )\n",
       "), Sequential(\n",
       "  (0): WeightDropout(\n",
       "    (module): LSTM(400, 1152, batch_first=True)\n",
       "  )\n",
       "  (1): RNNDropout()\n",
       "), Sequential(\n",
       "  (0): WeightDropout(\n",
       "    (module): LSTM(1152, 1152, batch_first=True)\n",
       "  )\n",
       "  (1): RNNDropout()\n",
       "), Sequential(\n",
       "  (0): WeightDropout(\n",
       "    (module): LSTM(1152, 400, batch_first=True)\n",
       "  )\n",
       "  (1): RNNDropout()\n",
       "), Sequential(\n",
       "  (0): PoolingLinearClassifier(\n",
       "    (layers): Sequential(\n",
       "      (0): BatchNorm1d(1200, eps=1e-05, momentum=0.1, affine=True, track_running_stats=True)\n",
       "      (1): Dropout(p=0.2, inplace=False)\n",
       "      (2): Linear(in_features=1200, out_features=50, bias=True)\n",
       "      (3): ReLU(inplace=True)\n",
       "      (4): BatchNorm1d(50, eps=1e-05, momentum=0.1, affine=True, track_running_stats=True)\n",
       "      (5): Dropout(p=0.1, inplace=False)\n",
       "      (6): Linear(in_features=50, out_features=2, bias=True)\n",
       "    )\n",
       "  )\n",
       ")], add_time=True, silent=False)"
      ]
     },
     "execution_count": 53,
     "metadata": {
      "tags": []
     },
     "output_type": "execute_result"
    }
   ],
   "source": [
    "learn = text_classifier_learner(data_cls, AWD_LSTM, drop_mult=0.5)\n",
    "learn.load_encoder('fine_tuned_enc')"
   ]
  },
  {
   "cell_type": "code",
   "execution_count": 40,
   "metadata": {
    "colab": {
     "base_uri": "https://localhost:8080/",
     "height": 112
    },
    "colab_type": "code",
    "id": "aSuWn5wIUGwn",
    "outputId": "5be38c81-0dd2-4f23-d252-e84d30460dde"
   },
   "outputs": [
    {
     "data": {
      "text/html": [
       "\n",
       "    <div>\n",
       "        <style>\n",
       "            /* Turns off some styling */\n",
       "            progress {\n",
       "                /* gets rid of default border in Firefox and Opera. */\n",
       "                border: none;\n",
       "                /* Needs to be in here for Safari polyfill so background images work as expected. */\n",
       "                background-size: auto;\n",
       "            }\n",
       "            .progress-bar-interrupted, .progress-bar-interrupted::-webkit-progress-bar {\n",
       "                background: #F44336;\n",
       "            }\n",
       "        </style>\n",
       "      <progress value='0' class='' max='1' style='width:300px; height:20px; vertical-align: middle;'></progress>\n",
       "      0.00% [0/1 00:00<00:00]\n",
       "    </div>\n",
       "    \n",
       "<table border=\"1\" class=\"dataframe\">\n",
       "  <thead>\n",
       "    <tr style=\"text-align: left;\">\n",
       "      <th>epoch</th>\n",
       "      <th>train_loss</th>\n",
       "      <th>valid_loss</th>\n",
       "      <th>accuracy</th>\n",
       "      <th>time</th>\n",
       "    </tr>\n",
       "  </thead>\n",
       "  <tbody>\n",
       "  </tbody>\n",
       "</table><p>\n",
       "\n",
       "    <div>\n",
       "        <style>\n",
       "            /* Turns off some styling */\n",
       "            progress {\n",
       "                /* gets rid of default border in Firefox and Opera. */\n",
       "                border: none;\n",
       "                /* Needs to be in here for Safari polyfill so background images work as expected. */\n",
       "                background-size: auto;\n",
       "            }\n",
       "            .progress-bar-interrupted, .progress-bar-interrupted::-webkit-progress-bar {\n",
       "                background: #F44336;\n",
       "            }\n",
       "        </style>\n",
       "      <progress value='95' class='' max='520' style='width:300px; height:20px; vertical-align: middle;'></progress>\n",
       "      18.27% [95/520 01:05<04:53 1.9131]\n",
       "    </div>\n",
       "    "
      ],
      "text/plain": [
       "<IPython.core.display.HTML object>"
      ]
     },
     "metadata": {
      "tags": []
     },
     "output_type": "display_data"
    },
    {
     "name": "stdout",
     "output_type": "stream",
     "text": [
      "LR Finder is complete, type {learner_name}.recorder.plot() to see the graph.\n"
     ]
    }
   ],
   "source": [
    "learn.lr_find()"
   ]
  },
  {
   "cell_type": "code",
   "execution_count": 41,
   "metadata": {
    "colab": {
     "base_uri": "https://localhost:8080/",
     "height": 279
    },
    "colab_type": "code",
    "id": "QGnAnOqaXTU3",
    "outputId": "6327974c-a97b-401d-f049-3ff31f348948"
   },
   "outputs": [
    {
     "data": {
      "image/png": "[encoded data removed]",
      "text/plain": [
       "<Figure size 432x288 with 1 Axes>"
      ]
     },
     "metadata": {
      "needs_background": "light",
      "tags": []
     },
     "output_type": "display_data"
    }
   ],
   "source": [
    "learn.recorder.plot()"
   ]
  },
  {
   "cell_type": "code",
   "execution_count": 42,
   "metadata": {
    "colab": {
     "base_uri": "https://localhost:8080/",
     "height": 80
    },
    "colab_type": "code",
    "id": "ie5RDRN8XsRI",
    "outputId": "aec2ae3e-8c30-42c0-951b-bca8acad9d04"
   },
   "outputs": [
    {
     "data": {
      "text/html": [
       "<table border=\"1\" class=\"dataframe\">\n",
       "  <thead>\n",
       "    <tr style=\"text-align: left;\">\n",
       "      <th>epoch</th>\n",
       "      <th>train_loss</th>\n",
       "      <th>valid_loss</th>\n",
       "      <th>accuracy</th>\n",
       "      <th>time</th>\n",
       "    </tr>\n",
       "  </thead>\n",
       "  <tbody>\n",
       "    <tr>\n",
       "      <td>0</td>\n",
       "      <td>0.293647</td>\n",
       "      <td>0.225800</td>\n",
       "      <td>0.912160</td>\n",
       "      <td>10:11</td>\n",
       "    </tr>\n",
       "  </tbody>\n",
       "</table>"
      ],
      "text/plain": [
       "<IPython.core.display.HTML object>"
      ]
     },
     "metadata": {
      "tags": []
     },
     "output_type": "display_data"
    }
   ],
   "source": [
    "learn.fit_one_cycle(1, 1e-01, moms=(0.8, 0.7))"
   ]
  },
  {
   "cell_type": "code",
   "execution_count": 43,
   "metadata": {
    "colab": {},
    "colab_type": "code",
    "id": "-aKx9BRSX9-r"
   },
   "outputs": [],
   "source": [
    "learn.save('first')"
   ]
  },
  {
   "cell_type": "code",
   "execution_count": 44,
   "metadata": {
    "colab": {},
    "colab_type": "code",
    "id": "Nh1vAGz6YJG-"
   },
   "outputs": [],
   "source": [
    "learn.load('first');"
   ]
  },
  {
   "cell_type": "code",
   "execution_count": 45,
   "metadata": {
    "colab": {
     "base_uri": "https://localhost:8080/",
     "height": 80
    },
    "colab_type": "code",
    "id": "7H6GQVLRYXoj",
    "outputId": "cef74c8a-5850-44fa-d5fb-21010c7cdecd"
   },
   "outputs": [
    {
     "data": {
      "text/html": [
       "<table border=\"1\" class=\"dataframe\">\n",
       "  <thead>\n",
       "    <tr style=\"text-align: left;\">\n",
       "      <th>epoch</th>\n",
       "      <th>train_loss</th>\n",
       "      <th>valid_loss</th>\n",
       "      <th>accuracy</th>\n",
       "      <th>time</th>\n",
       "    </tr>\n",
       "  </thead>\n",
       "  <tbody>\n",
       "    <tr>\n",
       "      <td>0</td>\n",
       "      <td>0.244664</td>\n",
       "      <td>0.185331</td>\n",
       "      <td>0.929720</td>\n",
       "      <td>11:11</td>\n",
       "    </tr>\n",
       "  </tbody>\n",
       "</table>"
      ],
      "text/plain": [
       "<IPython.core.display.HTML object>"
      ]
     },
     "metadata": {
      "tags": []
     },
     "output_type": "display_data"
    }
   ],
   "source": [
    "learn.freeze_to(-2)\n",
    "learn.fit_one_cycle(1, slice(1e-02/(2.6**4), 1e-02), moms=(0.8, 0.7))"
   ]
  },
  {
   "cell_type": "code",
   "execution_count": 46,
   "metadata": {
    "colab": {},
    "colab_type": "code",
    "id": "Q8e2eXr-Y2hb"
   },
   "outputs": [],
   "source": [
    "learn.save('second')"
   ]
  },
  {
   "cell_type": "code",
   "execution_count": 47,
   "metadata": {
    "colab": {
     "base_uri": "https://localhost:8080/",
     "height": 1000
    },
    "colab_type": "code",
    "id": "7SBjgknJZCsV",
    "outputId": "926973d1-13c8-4f20-aab6-936a06a1ba4f"
   },
   "outputs": [
    {
     "data": {
      "text/plain": [
       "RNNLearner(data=TextClasDataBunch;\n",
       "\n",
       "Train: LabelList (25000 items)\n",
       "x: TextList\n",
       "xxbos xxup mpaa : xxmaj rated r for xxmaj violence , xxmaj language , xxmaj nudity and xxmaj brief xxmaj drug xxmaj use . xxmaj quebec xxmaj rating:13 + xxmaj canadian xxmaj home xxmaj video xxunk \n",
       " \n",
       "  i saw xxmaj coonskin today . xxmaj this film is also known as xxmaj bustin xxmaj out and xxmaj street xxmaj fight . xxmaj after watching xxmaj fritz xxmaj the xxmaj cat , i wanted to see more of xxmaj bashki 's films . i saw xxmaj cool xxmaj world and thought it was mediocre and i saw this . xxmaj when it was first released , the film was very controversial . xxmaj it was considered racist and xxmaj al xxmaj sharpton wanted the film banned , he even led protests outside the theatre where the film was playing . xxmaj the film was only released on xxup vhs under the title \" xxmaj street xxmaj xxunk . xxmaj it is now considered a cult - classic film and xxmaj african - xxmaj american celebrities such as comedian xxmaj richard xxmaj pryor , director xxmaj spike xxmaj lee and the rap group xxmaj the xxmaj wu - xxmaj tang xxmaj clan are said to have enjoyed this film . i personally thought xxmaj fritz xxmaj the xxmaj cat was a much better film but this is very enjoyable as well . xxmaj worth watching for xxmaj bashki or xxmaj blaxploitation film fans . xxmaj the film mixes live action and animation sort of like the film xxmaj who xxmaj framed xxmaj roger xxmaj rabbit . i would have preferred it in full animation but whatever . xxmaj the film starts off with a reverend and another man racing to rescue two of their friends from prison . xxmaj while the prisoners wait , the older one tells a story of three men he knew . xxmaj the film then switches into animation format , we see three black men who sold their house to this man . xxmaj they decide to make names for themselves in xxmaj harlem . xxmaj so the leader , a black rabbit , kills a big player in xxmaj harlem and he basically becomes a big shot . xxmaj the film moves on as the xxmaj italian mafia want him out . xxmaj the mafia involves the godfather , his three sons who are homosexual and an xxmaj italian clown . xxmaj coonskin is an entertaining animated film that 's worth checking out , if you can find it .,xxbos xxmaj while i was the video store i was browsing through the one dollar rentals and came upon this little gem . i do n't know what it was about it but i just had a gut xxunk about it and wow was i ever right . \n",
       " \n",
       "  xxmaj the story centers around two girls who have just survived a school shooting . xxmaj one of the girls is xxmaj alicia a teenage xxunk who is the only witness for the full attack and another is xxmaj deanna another survivor who survived a bullet to the head by some miracle . xxmaj thrown together by fate , they slowly begin a painful and beautiful display of healing and moving on . \n",
       " \n",
       "  i just hate it when amazing movies fall through the cracks . xxmaj because wow what a performance by xxmaj busy xxmaj phillips and xxmaj xxunk xxmaj christensen not to mention the rest of the cast ! xxmaj my only complaint is that the xxup dvd was sorely lacking in special features . xxmaj oh and some of the jump cuts in the movie were kind of jarring . xxmaj but all in all a excellent movie .,xxbos i thought this was a splendid showcase for xxmaj mandy 's bodacious bod . xxmaj if you do n't expect anything else , such as clever plot twists and believable character development , you wo n't be disappointed . xxmaj consider this a xxmaj sports xxmaj illustrated shoot whose character goes around killing people , especially those who threaten to come between her and her ' xxmaj mommy ' ( xxmaj suzanna xxmaj arquette , who obviously does n't want to play the sex kitten - she leaves that up to her daughter ) . \n",
       " \n",
       "  xxmaj mandy 's face is a little too perfect , but her body is a complete xxunk fire , up there in the ranks of xxmaj sophia xxmaj loren when it comes to natural xxunk , a perfect xxunk ratio of waist to hips , and splendidly configured legs , right down to her feet . ( xxmaj there has to be some ideal configuration of thighs to knees to calves to ankles that is altogether pleasing to the eye ; xxmaj mandy certainly is the model for this idealized ratio ) . \n",
       " \n",
       "  xxmaj and no flat butt to boot , which seems to be the undoing of many a busty babe with curves everywhere except in the ' nether xxunk ' . xxmaj mandy might have used a body double in the rear shot of her losing her towel as she descended into the candle - lit hot tub with her blindfolded xxmaj german - xxmaj guy xxmaj victim xxmaj no . 2 , but from all i could see from her bikini shots , she had the butt for it and did n't need a double to prove it . \n",
       " \n",
       "  xxmaj mandy 's acting abilities had little to do with her impression of a psychotic ' xxmaj mommy 's xxmaj girl ' , with the obvious erotic lesbian overtones . xxmaj her bisexual nature ( allowing herself to be xxunk in the hot tub after a long flirtation with xxmaj german xxmaj guy xxmaj no . 2 , who also happened to be her mother 's lover ) added an additional dimension to an otherwise one - dimensional caricature of adolescent female horniness conflicted with pathological murderous impulses ( always by water with the men - the ultimate fate of the xxmaj latina housekeeper was edited out in the televised version for some obscure reason ) . \n",
       " \n",
       "  xxmaj mandy 's xxmaj uber - xxmaj nordic facial features coupled with her xxmaj uber - xxmaj voluptuous body could either be a blessing or a curse . xxmaj if xxmaj mandy really wants to further her career as an actress , i 'd advise her to immerse herself fully in the xxmaj romance xxmaj languages , especially xxmaj italian and xxmaj spanish - and maybe xxmaj french , although i do n't know if they would go for her type . xxmaj but this would enable her to reconcile her xxmaj bo xxmaj derek face with her xxmaj vida xxmaj guerra body - but maybe her face is just a little too xxmaj nordic , and she has shown off too much of her extraordinary body in a cheesy movie to enable her to advance to any more fame that was enjoyed by xxmaj michelle xxmaj johnson of the 1980 's whose early fame in xxmaj blame it on xxmaj rio was followed by a series of skin flicks that failed to make it off the ground . \n",
       " \n",
       "  xxmaj xxunk xxmaj xxunk .,xxbos xxmaj just a note to add to the above comment . xxmaj fear of a xxmaj black xxmaj hat does n't have the criminal who 's image has been ripped off by the band , that 's in xxup cb4 . xxmaj easily confused as the two films are so similar , but xxmaj black xxmaj hat is vastly the superior of the two xxrep 5 . yeah .,xxbos xxmaj my boyfriend and i both enjoyed this film very much . xxmaj the viewer is swept away from modern life into old xxmaj japan , while at the same time exposed to very current themes . xxmaj the characters are realistic and detailed ; it has an unpredictable ending and story , which is very refreshing . xxmaj the story is made up of mini - plots within the life of several geisha living together in a poor city district . i highly recommend this movie to anyone who is interested in a realistic romance or life in old xxmaj japan . \n",
       " \n",
       " \n",
       "y: CategoryList\n",
       "pos,pos,pos,pos,pos\n",
       "Path: /content/data/imdb;\n",
       "\n",
       "Valid: LabelList (25000 items)\n",
       "x: TextList\n",
       "xxbos i saw this movie a fews years ago and was literally swept away by it . xxmaj so charming and so very romantic . xxmaj david xxmaj duchovny and xxmaj ms. xxmaj driver have chemistry that is so hot , you will need to take off a layer of clothing . xxmaj the supporting cast is 100 % top notch . xxmaj just watching xxmaj caroll o'connor and xxmaj robert xxmaj loggia play off one another is pure poetry . xxmaj bonnie xxmaj hunt and xxmaj jim xxmaj xxunk and a wonderful team and some of the films most charming moments are when they are on the screen . xxmaj like xxmaj jim xxmaj belushi screaming at his children to go to sleep \" xxup forever ! \" or him dancing in the kitchen . xxmaj this film made we wish i knew people like that in my own life . xxmaj not to mention , what woman does not want xxmaj david xxmaj duchovny for a boyfriend ?,xxbos i just want xxmaj to say that this movie was excellent . \n",
       " \n",
       "  i loved it from the beginning until the end . \n",
       " \n",
       "  xxmaj the acting was great .the director did an amazing job and i would like to see it again . \n",
       " \n",
       "  xxmaj jennifer xxmaj tilly did a very good performance , xxmaj the guy that interpreted his father ( xxmaj manny ) was another great actor xxup but i xxup can xxup not xxup recall xxup his xxup name . \n",
       " \n",
       "  i ca n't wait for xxmaj el xxmaj padrino xxup ii . \n",
       " \n",
       "  xxmaj damian xxmaj chapa looks so good and i think he is one of the most talented actors out there . xxmaj there is xxunk of xxmaj latin actors that do a great job like it is shown in this film ! \n",
       " \n",
       "  xxmaj rent xxmaj it ! ! ! xxmaj rent it ! ! ! xxmaj rent it ! ! !,xxbos xxmaj this is a very well done film showing the life of international students during their \" xxmaj erasmus year \" in xxmaj barcelona which by the way is one of the most beautiful towns in xxmaj europe and is an ideal location . \n",
       " \n",
       "  xxmaj the idea itself with all the different languages is great and gives the film an original atmosphere . xxmaj there are some clichés about the countries but most of them are true ! xxmaj the characters could not better represent their different countries . \n",
       " \n",
       "  xxmaj having experienced \" xxmaj erasmus \" on myself during my xxunk semester in xxmaj italy i can say that is movie is incredibly authentic . i had many experiences which were similar to the characters ( except i did n't get laid as often ) . xxmaj the movie is also quite funny yet not like all those stupid xxmaj american college movies . \n",
       " \n",
       "  xxmaj finally the movie touches also some important issues like the change from student to work life . \n",
       " \n",
       "  9 / 10 ( i may not be very objective though ),xxbos xxmaj with \" xxmaj batman xxmaj returns \" , xxmaj tim xxmaj burton succumbed to an important priority in xxmaj american cinema : giving a sequel to a blockbuster . xxmaj three years after the most successful movie of the year , \" xxmaj batman \" ( 1989 ) , here comes the hero of xxmaj gotham xxmaj city again for the pleasure of many spectators . xxmaj like its predecessor , \" xxmaj batman xxmaj returns \" enjoyed an enormous commercial success . xxmaj tim xxmaj burton made xxmaj batman come back once again because it is to believe that the victory of the latter on his enemy the xxmaj joker did little to improve the image of xxmaj gotham xxmaj city . xxmaj indeed , violence and corruption still exist and here , the second word is epitomized by xxmaj max xxmaj shreck ( xxmaj christopher xxmaj walken ) and the penguin ( xxmaj danny xxmaj de xxmaj vito ) . xxmaj these two crooks who are eager to take control of xxmaj gotham xxmaj city are going to make life difficult for xxmaj batman . xxmaj his task will be more difficult with the apparition of xxmaj catwoman ... \n",
       " \n",
       "  xxmaj tim xxmaj burton still delivered much work on the scenery and it seems that he tried to correct the faults of the first movie . xxmaj it means that the director gave way to fight sequences which are better mastered than in the first xxmaj batman . xxmaj but he did n't neglect the psychology of his main characters for all that . xxmaj if in the movie of 1989 , xxmaj burton had focused on xxmaj bruce xxmaj wayne / xxmaj batman 's psychology , here , it 's the penguin that obviously interested him . xxmaj the director attempted to make of him , very well acted by xxmaj de xxmaj vito an ambiguous character . xxmaj on one hand , he 's full of bad intentions ( previously quoted ) but on the other hand , he 's searching for his past and would like to be considered as a real man . \n",
       " \n",
       "  \" xxmaj batman xxmaj returns \" also appears as crazier than its predecessor , especially with the cast . i think of xxmaj michèle xxmaj pfeiffer who offers a daring and powerful performance as xxmaj catwoman . xxmaj besides , at the time when i 'm writing this review , it makes me remember that a new version of xxmaj catwoman is currently at the cinema . xxmaj but given the bad reviews ( 3 out of 10 on imdb ! ) , it is sure that her performer xxmaj halle xxmaj berry must pale into insignificance beside xxmaj pfeiffer . \n",
       " \n",
       "  xxmaj ultimately , this film is one of the best sequels of 1992 and it enables to develop xxmaj tim xxmaj burton 's peculiar style . xxmaj we also still find his taste for the strange and the xxmaj gothic . xxmaj concerning xxmaj batman 's other adaptations for the screen , you can skip them . \" xxmaj batman xxmaj forever \" ( 1995 ) and \" xxmaj batman and xxmaj robin \" ( 1997 ) are no good . i heard that xxmaj christopher xxmaj nolan was shooting the beginning of the xxmaj batman story and it was to be released next year . xxmaj will it match xxmaj tim xxmaj burton 's works ?,xxbos xxmaj imagine you have the opportunity to see yourself again as a kid . xxmaj now think what would happen if you had the chance to speak with your younger self , or even change him / you . xxmaj would you try to influence or try to change your younger self 's beliefs in light of your future experience ? xxmaj or perhaps the encounter would change your older self 's perception of life and reality ? \n",
       " \n",
       "  xxmaj walt xxmaj disney 's xxmaj the xxmaj kid tries to engage this complex thought by putting \" older self \" xxmaj bruce xxmaj willis in a collision course with \" younger self \" xxmaj spenser xxmaj breslin ( from xxmaj the xxmaj santa xxmaj clause 2 and xxmaj the xxmaj cat in the xxmaj hat \" fame \" ) . xxmaj the result is a sometimes funny sometimes touching encounter , which makes you ponder about your own past , present and future  and truly believe it is never too late to change your course .\n",
       "y: CategoryList\n",
       "pos,pos,pos,pos,pos\n",
       "Path: /content/data/imdb;\n",
       "\n",
       "Test: None, model=SequentialRNN(\n",
       "  (0): MultiBatchEncoder(\n",
       "    (module): AWD_LSTM(\n",
       "      (encoder): Embedding(60000, 400, padding_idx=1)\n",
       "      (encoder_dp): EmbeddingDropout(\n",
       "        (emb): Embedding(60000, 400, padding_idx=1)\n",
       "      )\n",
       "      (rnns): ModuleList(\n",
       "        (0): WeightDropout(\n",
       "          (module): LSTM(400, 1152, batch_first=True)\n",
       "        )\n",
       "        (1): WeightDropout(\n",
       "          (module): LSTM(1152, 1152, batch_first=True)\n",
       "        )\n",
       "        (2): WeightDropout(\n",
       "          (module): LSTM(1152, 400, batch_first=True)\n",
       "        )\n",
       "      )\n",
       "      (input_dp): RNNDropout()\n",
       "      (hidden_dps): ModuleList(\n",
       "        (0): RNNDropout()\n",
       "        (1): RNNDropout()\n",
       "        (2): RNNDropout()\n",
       "      )\n",
       "    )\n",
       "  )\n",
       "  (1): PoolingLinearClassifier(\n",
       "    (layers): Sequential(\n",
       "      (0): BatchNorm1d(1200, eps=1e-05, momentum=0.1, affine=True, track_running_stats=True)\n",
       "      (1): Dropout(p=0.2, inplace=False)\n",
       "      (2): Linear(in_features=1200, out_features=50, bias=True)\n",
       "      (3): ReLU(inplace=True)\n",
       "      (4): BatchNorm1d(50, eps=1e-05, momentum=0.1, affine=True, track_running_stats=True)\n",
       "      (5): Dropout(p=0.1, inplace=False)\n",
       "      (6): Linear(in_features=50, out_features=2, bias=True)\n",
       "    )\n",
       "  )\n",
       "), opt_func=functools.partial(<class 'torch.optim.adam.Adam'>, betas=(0.9, 0.99)), loss_func=FlattenedLoss of CrossEntropyLoss(), metrics=[<function accuracy at 0x7f2d0cd5e9d8>], true_wd=True, bn_wd=True, wd=0.01, train_bn=True, path=PosixPath('/content/data/imdb'), model_dir='models', callback_fns=[functools.partial(<class 'fastai.basic_train.Recorder'>, add_time=True, silent=False)], callbacks=[RNNTrainer\n",
       "learn: RNNLearner(data=TextClasDataBunch;\n",
       "\n",
       "Train: LabelList (25000 items)\n",
       "x: TextList\n",
       "xxbos xxup mpaa : xxmaj rated r for xxmaj violence , xxmaj language , xxmaj nudity and xxmaj brief xxmaj drug xxmaj use . xxmaj quebec xxmaj rating:13 + xxmaj canadian xxmaj home xxmaj video xxunk \n",
       " \n",
       "  i saw xxmaj coonskin today . xxmaj this film is also known as xxmaj bustin xxmaj out and xxmaj street xxmaj fight . xxmaj after watching xxmaj fritz xxmaj the xxmaj cat , i wanted to see more of xxmaj bashki 's films . i saw xxmaj cool xxmaj world and thought it was mediocre and i saw this . xxmaj when it was first released , the film was very controversial . xxmaj it was considered racist and xxmaj al xxmaj sharpton wanted the film banned , he even led protests outside the theatre where the film was playing . xxmaj the film was only released on xxup vhs under the title \" xxmaj street xxmaj xxunk . xxmaj it is now considered a cult - classic film and xxmaj african - xxmaj american celebrities such as comedian xxmaj richard xxmaj pryor , director xxmaj spike xxmaj lee and the rap group xxmaj the xxmaj wu - xxmaj tang xxmaj clan are said to have enjoyed this film . i personally thought xxmaj fritz xxmaj the xxmaj cat was a much better film but this is very enjoyable as well . xxmaj worth watching for xxmaj bashki or xxmaj blaxploitation film fans . xxmaj the film mixes live action and animation sort of like the film xxmaj who xxmaj framed xxmaj roger xxmaj rabbit . i would have preferred it in full animation but whatever . xxmaj the film starts off with a reverend and another man racing to rescue two of their friends from prison . xxmaj while the prisoners wait , the older one tells a story of three men he knew . xxmaj the film then switches into animation format , we see three black men who sold their house to this man . xxmaj they decide to make names for themselves in xxmaj harlem . xxmaj so the leader , a black rabbit , kills a big player in xxmaj harlem and he basically becomes a big shot . xxmaj the film moves on as the xxmaj italian mafia want him out . xxmaj the mafia involves the godfather , his three sons who are homosexual and an xxmaj italian clown . xxmaj coonskin is an entertaining animated film that 's worth checking out , if you can find it .,xxbos xxmaj while i was the video store i was browsing through the one dollar rentals and came upon this little gem . i do n't know what it was about it but i just had a gut xxunk about it and wow was i ever right . \n",
       " \n",
       "  xxmaj the story centers around two girls who have just survived a school shooting . xxmaj one of the girls is xxmaj alicia a teenage xxunk who is the only witness for the full attack and another is xxmaj deanna another survivor who survived a bullet to the head by some miracle . xxmaj thrown together by fate , they slowly begin a painful and beautiful display of healing and moving on . \n",
       " \n",
       "  i just hate it when amazing movies fall through the cracks . xxmaj because wow what a performance by xxmaj busy xxmaj phillips and xxmaj xxunk xxmaj christensen not to mention the rest of the cast ! xxmaj my only complaint is that the xxup dvd was sorely lacking in special features . xxmaj oh and some of the jump cuts in the movie were kind of jarring . xxmaj but all in all a excellent movie .,xxbos i thought this was a splendid showcase for xxmaj mandy 's bodacious bod . xxmaj if you do n't expect anything else , such as clever plot twists and believable character development , you wo n't be disappointed . xxmaj consider this a xxmaj sports xxmaj illustrated shoot whose character goes around killing people , especially those who threaten to come between her and her ' xxmaj mommy ' ( xxmaj suzanna xxmaj arquette , who obviously does n't want to play the sex kitten - she leaves that up to her daughter ) . \n",
       " \n",
       "  xxmaj mandy 's face is a little too perfect , but her body is a complete xxunk fire , up there in the ranks of xxmaj sophia xxmaj loren when it comes to natural xxunk , a perfect xxunk ratio of waist to hips , and splendidly configured legs , right down to her feet . ( xxmaj there has to be some ideal configuration of thighs to knees to calves to ankles that is altogether pleasing to the eye ; xxmaj mandy certainly is the model for this idealized ratio ) . \n",
       " \n",
       "  xxmaj and no flat butt to boot , which seems to be the undoing of many a busty babe with curves everywhere except in the ' nether xxunk ' . xxmaj mandy might have used a body double in the rear shot of her losing her towel as she descended into the candle - lit hot tub with her blindfolded xxmaj german - xxmaj guy xxmaj victim xxmaj no . 2 , but from all i could see from her bikini shots , she had the butt for it and did n't need a double to prove it . \n",
       " \n",
       "  xxmaj mandy 's acting abilities had little to do with her impression of a psychotic ' xxmaj mommy 's xxmaj girl ' , with the obvious erotic lesbian overtones . xxmaj her bisexual nature ( allowing herself to be xxunk in the hot tub after a long flirtation with xxmaj german xxmaj guy xxmaj no . 2 , who also happened to be her mother 's lover ) added an additional dimension to an otherwise one - dimensional caricature of adolescent female horniness conflicted with pathological murderous impulses ( always by water with the men - the ultimate fate of the xxmaj latina housekeeper was edited out in the televised version for some obscure reason ) . \n",
       " \n",
       "  xxmaj mandy 's xxmaj uber - xxmaj nordic facial features coupled with her xxmaj uber - xxmaj voluptuous body could either be a blessing or a curse . xxmaj if xxmaj mandy really wants to further her career as an actress , i 'd advise her to immerse herself fully in the xxmaj romance xxmaj languages , especially xxmaj italian and xxmaj spanish - and maybe xxmaj french , although i do n't know if they would go for her type . xxmaj but this would enable her to reconcile her xxmaj bo xxmaj derek face with her xxmaj vida xxmaj guerra body - but maybe her face is just a little too xxmaj nordic , and she has shown off too much of her extraordinary body in a cheesy movie to enable her to advance to any more fame that was enjoyed by xxmaj michelle xxmaj johnson of the 1980 's whose early fame in xxmaj blame it on xxmaj rio was followed by a series of skin flicks that failed to make it off the ground . \n",
       " \n",
       "  xxmaj xxunk xxmaj xxunk .,xxbos xxmaj just a note to add to the above comment . xxmaj fear of a xxmaj black xxmaj hat does n't have the criminal who 's image has been ripped off by the band , that 's in xxup cb4 . xxmaj easily confused as the two films are so similar , but xxmaj black xxmaj hat is vastly the superior of the two xxrep 5 . yeah .,xxbos xxmaj my boyfriend and i both enjoyed this film very much . xxmaj the viewer is swept away from modern life into old xxmaj japan , while at the same time exposed to very current themes . xxmaj the characters are realistic and detailed ; it has an unpredictable ending and story , which is very refreshing . xxmaj the story is made up of mini - plots within the life of several geisha living together in a poor city district . i highly recommend this movie to anyone who is interested in a realistic romance or life in old xxmaj japan . \n",
       " \n",
       " \n",
       "y: CategoryList\n",
       "pos,pos,pos,pos,pos\n",
       "Path: /content/data/imdb;\n",
       "\n",
       "Valid: LabelList (25000 items)\n",
       "x: TextList\n",
       "xxbos i saw this movie a fews years ago and was literally swept away by it . xxmaj so charming and so very romantic . xxmaj david xxmaj duchovny and xxmaj ms. xxmaj driver have chemistry that is so hot , you will need to take off a layer of clothing . xxmaj the supporting cast is 100 % top notch . xxmaj just watching xxmaj caroll o'connor and xxmaj robert xxmaj loggia play off one another is pure poetry . xxmaj bonnie xxmaj hunt and xxmaj jim xxmaj xxunk and a wonderful team and some of the films most charming moments are when they are on the screen . xxmaj like xxmaj jim xxmaj belushi screaming at his children to go to sleep \" xxup forever ! \" or him dancing in the kitchen . xxmaj this film made we wish i knew people like that in my own life . xxmaj not to mention , what woman does not want xxmaj david xxmaj duchovny for a boyfriend ?,xxbos i just want xxmaj to say that this movie was excellent . \n",
       " \n",
       "  i loved it from the beginning until the end . \n",
       " \n",
       "  xxmaj the acting was great .the director did an amazing job and i would like to see it again . \n",
       " \n",
       "  xxmaj jennifer xxmaj tilly did a very good performance , xxmaj the guy that interpreted his father ( xxmaj manny ) was another great actor xxup but i xxup can xxup not xxup recall xxup his xxup name . \n",
       " \n",
       "  i ca n't wait for xxmaj el xxmaj padrino xxup ii . \n",
       " \n",
       "  xxmaj damian xxmaj chapa looks so good and i think he is one of the most talented actors out there . xxmaj there is xxunk of xxmaj latin actors that do a great job like it is shown in this film ! \n",
       " \n",
       "  xxmaj rent xxmaj it ! ! ! xxmaj rent it ! ! ! xxmaj rent it ! ! !,xxbos xxmaj this is a very well done film showing the life of international students during their \" xxmaj erasmus year \" in xxmaj barcelona which by the way is one of the most beautiful towns in xxmaj europe and is an ideal location . \n",
       " \n",
       "  xxmaj the idea itself with all the different languages is great and gives the film an original atmosphere . xxmaj there are some clichés about the countries but most of them are true ! xxmaj the characters could not better represent their different countries . \n",
       " \n",
       "  xxmaj having experienced \" xxmaj erasmus \" on myself during my xxunk semester in xxmaj italy i can say that is movie is incredibly authentic . i had many experiences which were similar to the characters ( except i did n't get laid as often ) . xxmaj the movie is also quite funny yet not like all those stupid xxmaj american college movies . \n",
       " \n",
       "  xxmaj finally the movie touches also some important issues like the change from student to work life . \n",
       " \n",
       "  9 / 10 ( i may not be very objective though ),xxbos xxmaj with \" xxmaj batman xxmaj returns \" , xxmaj tim xxmaj burton succumbed to an important priority in xxmaj american cinema : giving a sequel to a blockbuster . xxmaj three years after the most successful movie of the year , \" xxmaj batman \" ( 1989 ) , here comes the hero of xxmaj gotham xxmaj city again for the pleasure of many spectators . xxmaj like its predecessor , \" xxmaj batman xxmaj returns \" enjoyed an enormous commercial success . xxmaj tim xxmaj burton made xxmaj batman come back once again because it is to believe that the victory of the latter on his enemy the xxmaj joker did little to improve the image of xxmaj gotham xxmaj city . xxmaj indeed , violence and corruption still exist and here , the second word is epitomized by xxmaj max xxmaj shreck ( xxmaj christopher xxmaj walken ) and the penguin ( xxmaj danny xxmaj de xxmaj vito ) . xxmaj these two crooks who are eager to take control of xxmaj gotham xxmaj city are going to make life difficult for xxmaj batman . xxmaj his task will be more difficult with the apparition of xxmaj catwoman ... \n",
       " \n",
       "  xxmaj tim xxmaj burton still delivered much work on the scenery and it seems that he tried to correct the faults of the first movie . xxmaj it means that the director gave way to fight sequences which are better mastered than in the first xxmaj batman . xxmaj but he did n't neglect the psychology of his main characters for all that . xxmaj if in the movie of 1989 , xxmaj burton had focused on xxmaj bruce xxmaj wayne / xxmaj batman 's psychology , here , it 's the penguin that obviously interested him . xxmaj the director attempted to make of him , very well acted by xxmaj de xxmaj vito an ambiguous character . xxmaj on one hand , he 's full of bad intentions ( previously quoted ) but on the other hand , he 's searching for his past and would like to be considered as a real man . \n",
       " \n",
       "  \" xxmaj batman xxmaj returns \" also appears as crazier than its predecessor , especially with the cast . i think of xxmaj michèle xxmaj pfeiffer who offers a daring and powerful performance as xxmaj catwoman . xxmaj besides , at the time when i 'm writing this review , it makes me remember that a new version of xxmaj catwoman is currently at the cinema . xxmaj but given the bad reviews ( 3 out of 10 on imdb ! ) , it is sure that her performer xxmaj halle xxmaj berry must pale into insignificance beside xxmaj pfeiffer . \n",
       " \n",
       "  xxmaj ultimately , this film is one of the best sequels of 1992 and it enables to develop xxmaj tim xxmaj burton 's peculiar style . xxmaj we also still find his taste for the strange and the xxmaj gothic . xxmaj concerning xxmaj batman 's other adaptations for the screen , you can skip them . \" xxmaj batman xxmaj forever \" ( 1995 ) and \" xxmaj batman and xxmaj robin \" ( 1997 ) are no good . i heard that xxmaj christopher xxmaj nolan was shooting the beginning of the xxmaj batman story and it was to be released next year . xxmaj will it match xxmaj tim xxmaj burton 's works ?,xxbos xxmaj imagine you have the opportunity to see yourself again as a kid . xxmaj now think what would happen if you had the chance to speak with your younger self , or even change him / you . xxmaj would you try to influence or try to change your younger self 's beliefs in light of your future experience ? xxmaj or perhaps the encounter would change your older self 's perception of life and reality ? \n",
       " \n",
       "  xxmaj walt xxmaj disney 's xxmaj the xxmaj kid tries to engage this complex thought by putting \" older self \" xxmaj bruce xxmaj willis in a collision course with \" younger self \" xxmaj spenser xxmaj breslin ( from xxmaj the xxmaj santa xxmaj clause 2 and xxmaj the xxmaj cat in the xxmaj hat \" fame \" ) . xxmaj the result is a sometimes funny sometimes touching encounter , which makes you ponder about your own past , present and future  and truly believe it is never too late to change your course .\n",
       "y: CategoryList\n",
       "pos,pos,pos,pos,pos\n",
       "Path: /content/data/imdb;\n",
       "\n",
       "Test: None, model=SequentialRNN(\n",
       "  (0): MultiBatchEncoder(\n",
       "    (module): AWD_LSTM(\n",
       "      (encoder): Embedding(60000, 400, padding_idx=1)\n",
       "      (encoder_dp): EmbeddingDropout(\n",
       "        (emb): Embedding(60000, 400, padding_idx=1)\n",
       "      )\n",
       "      (rnns): ModuleList(\n",
       "        (0): WeightDropout(\n",
       "          (module): LSTM(400, 1152, batch_first=True)\n",
       "        )\n",
       "        (1): WeightDropout(\n",
       "          (module): LSTM(1152, 1152, batch_first=True)\n",
       "        )\n",
       "        (2): WeightDropout(\n",
       "          (module): LSTM(1152, 400, batch_first=True)\n",
       "        )\n",
       "      )\n",
       "      (input_dp): RNNDropout()\n",
       "      (hidden_dps): ModuleList(\n",
       "        (0): RNNDropout()\n",
       "        (1): RNNDropout()\n",
       "        (2): RNNDropout()\n",
       "      )\n",
       "    )\n",
       "  )\n",
       "  (1): PoolingLinearClassifier(\n",
       "    (layers): Sequential(\n",
       "      (0): BatchNorm1d(1200, eps=1e-05, momentum=0.1, affine=True, track_running_stats=True)\n",
       "      (1): Dropout(p=0.2, inplace=False)\n",
       "      (2): Linear(in_features=1200, out_features=50, bias=True)\n",
       "      (3): ReLU(inplace=True)\n",
       "      (4): BatchNorm1d(50, eps=1e-05, momentum=0.1, affine=True, track_running_stats=True)\n",
       "      (5): Dropout(p=0.1, inplace=False)\n",
       "      (6): Linear(in_features=50, out_features=2, bias=True)\n",
       "    )\n",
       "  )\n",
       "), opt_func=functools.partial(<class 'torch.optim.adam.Adam'>, betas=(0.9, 0.99)), loss_func=FlattenedLoss of CrossEntropyLoss(), metrics=[<function accuracy at 0x7f2d0cd5e9d8>], true_wd=True, bn_wd=True, wd=0.01, train_bn=True, path=PosixPath('/content/data/imdb'), model_dir='models', callback_fns=[functools.partial(<class 'fastai.basic_train.Recorder'>, add_time=True, silent=False)], callbacks=[...], layer_groups=[Sequential(\n",
       "  (0): Embedding(60000, 400, padding_idx=1)\n",
       "  (1): EmbeddingDropout(\n",
       "    (emb): Embedding(60000, 400, padding_idx=1)\n",
       "  )\n",
       "), Sequential(\n",
       "  (0): WeightDropout(\n",
       "    (module): LSTM(400, 1152, batch_first=True)\n",
       "  )\n",
       "  (1): RNNDropout()\n",
       "), Sequential(\n",
       "  (0): WeightDropout(\n",
       "    (module): LSTM(1152, 1152, batch_first=True)\n",
       "  )\n",
       "  (1): RNNDropout()\n",
       "), Sequential(\n",
       "  (0): WeightDropout(\n",
       "    (module): LSTM(1152, 400, batch_first=True)\n",
       "  )\n",
       "  (1): RNNDropout()\n",
       "), Sequential(\n",
       "  (0): PoolingLinearClassifier(\n",
       "    (layers): Sequential(\n",
       "      (0): BatchNorm1d(1200, eps=1e-05, momentum=0.1, affine=True, track_running_stats=True)\n",
       "      (1): Dropout(p=0.2, inplace=False)\n",
       "      (2): Linear(in_features=1200, out_features=50, bias=True)\n",
       "      (3): ReLU(inplace=True)\n",
       "      (4): BatchNorm1d(50, eps=1e-05, momentum=0.1, affine=True, track_running_stats=True)\n",
       "      (5): Dropout(p=0.1, inplace=False)\n",
       "      (6): Linear(in_features=50, out_features=2, bias=True)\n",
       "    )\n",
       "  )\n",
       ")], add_time=True, silent=False)\n",
       "alpha: 2.0\n",
       "beta: 1.0], layer_groups=[Sequential(\n",
       "  (0): Embedding(60000, 400, padding_idx=1)\n",
       "  (1): EmbeddingDropout(\n",
       "    (emb): Embedding(60000, 400, padding_idx=1)\n",
       "  )\n",
       "), Sequential(\n",
       "  (0): WeightDropout(\n",
       "    (module): LSTM(400, 1152, batch_first=True)\n",
       "  )\n",
       "  (1): RNNDropout()\n",
       "), Sequential(\n",
       "  (0): WeightDropout(\n",
       "    (module): LSTM(1152, 1152, batch_first=True)\n",
       "  )\n",
       "  (1): RNNDropout()\n",
       "), Sequential(\n",
       "  (0): WeightDropout(\n",
       "    (module): LSTM(1152, 400, batch_first=True)\n",
       "  )\n",
       "  (1): RNNDropout()\n",
       "), Sequential(\n",
       "  (0): PoolingLinearClassifier(\n",
       "    (layers): Sequential(\n",
       "      (0): BatchNorm1d(1200, eps=1e-05, momentum=0.1, affine=True, track_running_stats=True)\n",
       "      (1): Dropout(p=0.2, inplace=False)\n",
       "      (2): Linear(in_features=1200, out_features=50, bias=True)\n",
       "      (3): ReLU(inplace=True)\n",
       "      (4): BatchNorm1d(50, eps=1e-05, momentum=0.1, affine=True, track_running_stats=True)\n",
       "      (5): Dropout(p=0.1, inplace=False)\n",
       "      (6): Linear(in_features=50, out_features=2, bias=True)\n",
       "    )\n",
       "  )\n",
       ")], add_time=True, silent=False)"
      ]
     },
     "execution_count": 47,
     "metadata": {
      "tags": []
     },
     "output_type": "execute_result"
    }
   ],
   "source": [
    "learn.load('second')"
   ]
  },
  {
   "cell_type": "code",
   "execution_count": 48,
   "metadata": {
    "colab": {
     "base_uri": "https://localhost:8080/",
     "height": 111
    },
    "colab_type": "code",
    "id": "C7x7E0MTZH5R",
    "outputId": "0f8215ca-afb5-4733-ac40-1d5a9f47f29f"
   },
   "outputs": [
    {
     "data": {
      "text/html": [
       "<table border=\"1\" class=\"dataframe\">\n",
       "  <thead>\n",
       "    <tr style=\"text-align: left;\">\n",
       "      <th>epoch</th>\n",
       "      <th>train_loss</th>\n",
       "      <th>valid_loss</th>\n",
       "      <th>accuracy</th>\n",
       "      <th>time</th>\n",
       "    </tr>\n",
       "  </thead>\n",
       "  <tbody>\n",
       "    <tr>\n",
       "      <td>0</td>\n",
       "      <td>0.222333</td>\n",
       "      <td>0.165997</td>\n",
       "      <td>0.939720</td>\n",
       "      <td>19:50</td>\n",
       "    </tr>\n",
       "    <tr>\n",
       "      <td>1</td>\n",
       "      <td>0.139788</td>\n",
       "      <td>0.150020</td>\n",
       "      <td>0.944120</td>\n",
       "      <td>18:58</td>\n",
       "    </tr>\n",
       "  </tbody>\n",
       "</table>"
      ],
      "text/plain": [
       "<IPython.core.display.HTML object>"
      ]
     },
     "metadata": {
      "tags": []
     },
     "output_type": "display_data"
    }
   ],
   "source": [
    "learn.unfreeze()\n",
    "learn.fit_one_cycle(2, slice(1e-02/(2.6**4), 1e-02), moms=(0.8, 0.7))"
   ]
  }
 ],
 "metadata": {
  "accelerator": "GPU",
  "colab": {
   "collapsed_sections": [],
   "name": "Copy of  IMDB  (Internet Movie Database)01",
   "provenance": []
  },
  "kernelspec": {
   "display_name": "Python 3",
   "language": "python",
   "name": "python3"
  },
  "language_info": {
   "codemirror_mode": {
    "name": "ipython",
    "version": 3
   },
   "file_extension": ".py",
   "mimetype": "text/x-python",
   "name": "python",
   "nbconvert_exporter": "python",
   "pygments_lexer": "ipython3",
   "version": "3.7.7"
  }
 },
 "nbformat": 4,
 "nbformat_minor": 1
}
